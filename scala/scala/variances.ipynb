{
 "cells": [
  {
   "cell_type": "markdown",
   "metadata": {},
   "source": [
    "# variances\n",
    "\n",
    "\n",
    "那么如果`A <: B`，`C[A]`和`C[B]`的关系是怎样？\n",
    "\n",
    "* `C[A] <: C[B]`，则`C`是`covariant class`\n",
    "* `C[A] >: C[B]`，则`C`是`contravariant class`\n",
    "* `C[A] C[B]互不为子类`，则`C`是`nonvariant class`\n",
    "\n",
    "符号表示为\n",
    "```scala\n",
    "class C[+T] {...} // covariant class\n",
    "class C[-T] {...} // contravariant class\n",
    "class C[T] {...}  // nonvariant class\n",
    "```\n"
   ]
  },
  {
   "cell_type": "markdown",
   "metadata": {},
   "source": [
    "## List和Array\n",
    "\n",
    "如果`A <: B`，那么`List(A) <: List(B)`，而`Array`是`nonvarianct class`\n",
    "\n",
    "这是因为`List`是不可变量，`Array`是可变的"
   ]
  },
  {
   "cell_type": "code",
   "execution_count": 2,
   "metadata": {},
   "outputs": [
    {
     "name": "stderr",
     "output_type": "stream",
     "text": [
      "cmd2.sc:2: type mismatch;\n",
      " found   : Array[Int]\n",
      " required: Array[AnyVal]\n",
      "Note: Int <: AnyVal, but class Array is invariant in type T.\n",
      "You may wish to investigate a wildcard type such as `_ <: AnyVal`. (SLS 3.2.10)\n",
      "val b: Array[AnyVal] = a\n",
      "                       ^"
     ]
    },
    {
     "ename": "",
     "evalue": "",
     "output_type": "error",
     "traceback": [
      "Compilation Failed"
     ]
    }
   ],
   "source": [
    "// 这样就会出问题，因为Array可变，所以这样操作后，类型会乱掉\n",
    "// 所以第二行在编译时就会出问题\n",
    "val a: Array[Int] = Array(1)\n",
    "val b: Array[AnyVal] = a\n",
    "b(0) = '1'\n",
    "val s: Int = a(0)"
   ]
  },
  {
   "cell_type": "code",
   "execution_count": 2,
   "metadata": {},
   "outputs": [
    {
     "data": {
      "text/plain": [
       "\u001b[36ma\u001b[39m: \u001b[32mList\u001b[39m[\u001b[32mInt\u001b[39m] = \u001b[33mList\u001b[39m(\u001b[32m1\u001b[39m)\n",
       "\u001b[36mb\u001b[39m: \u001b[32mList\u001b[39m[\u001b[32mAnyVal\u001b[39m] = \u001b[33mList\u001b[39m(1)"
      ]
     },
     "execution_count": 2,
     "metadata": {},
     "output_type": "execute_result"
    }
   ],
   "source": [
    "// 而List不可变，所以编译通过了\n",
    "val a: List[Int] = List(1)\n",
    "val b: List[AnyVal] = a\n",
    "// b(0) = '1'\n",
    "// val s: AnyVal = a(0)"
   ]
  },
  {
   "cell_type": "markdown",
   "metadata": {},
   "source": [
    "## Function\n",
    "\n",
    "函数的参数类型是`contravariant`，而函数的返回值是`covariant`\n",
    "\n",
    "```scala\n",
    "package scala\n",
    "trait Function1[-T, +U] {\n",
    "  def apply(x: T): U\n",
    "}\n",
    "```\n",
    "\n",
    "原因的话，在<a href=\"./type_bounds.ipynb#type_rules_for_functions\">type_bounds.ipynb</a>中有解释\n",
    "\n",
    "如果`A1 >: A2`而且`B1 <: B2`，则`A1 => B1 <: A2 => B2`\n",
    "\n",
    "\n",
    "另外，scala会对variance进行简单的检查\n",
    "\n",
    "* covariant type parameter只能出现在方法返回值中\n",
    "* contravariant type parameter只能出现在方法参数中\n",
    "* nonvariant type paramter在哪都行\n",
    "\n",
    "上面的Function1就通过了这个检查"
   ]
  },
  {
   "cell_type": "markdown",
   "metadata": {},
   "source": [
    "## Example - List"
   ]
  },
  {
   "cell_type": "markdown",
   "metadata": {},
   "source": [
    "**现在 有这样一个List**"
   ]
  },
  {
   "cell_type": "code",
   "execution_count": 6,
   "metadata": {},
   "outputs": [
    {
     "data": {
      "text/plain": [
       "defined \u001b[32mtrait\u001b[39m \u001b[36mList\u001b[39m\n",
       "defined \u001b[32mclass\u001b[39m \u001b[36mCons\u001b[39m\n",
       "defined \u001b[32mclass\u001b[39m \u001b[36mNil\u001b[39m"
      ]
     },
     "execution_count": 6,
     "metadata": {},
     "output_type": "execute_result"
    }
   ],
   "source": [
    "trait List[+T] {\n",
    "  def isEmpty: Boolean\n",
    "  def head: T\n",
    "  def tail: List[T]\n",
    "}\n",
    "\n",
    "class Cons[T](val head: T, val tail: List[T]) extends List[T] {\n",
    "  def isEmpty = false\n",
    "}\n",
    "\n",
    "class Nil[T] extends List[T] {\n",
    "  def isEmpty: Boolean = true\n",
    "  def head: Nothing = throw new NoSuchElementException(\"Nil.head\")\n",
    "  def tail: Nothing = throw new NoSuchElementException(\"Nil.tail\")\n",
    "}"
   ]
  },
  {
   "cell_type": "markdown",
   "metadata": {},
   "source": [
    "### 如果想要把Nil变成object该怎么写"
   ]
  },
  {
   "cell_type": "code",
   "execution_count": 5,
   "metadata": {},
   "outputs": [
    {
     "data": {
      "text/plain": [
       "defined \u001b[32mtrait\u001b[39m \u001b[36mList\u001b[39m\n",
       "defined \u001b[32mclass\u001b[39m \u001b[36mCons\u001b[39m\n",
       "defined \u001b[32mobject\u001b[39m \u001b[36mNil\u001b[39m"
      ]
     },
     "execution_count": 5,
     "metadata": {},
     "output_type": "execute_result"
    }
   ],
   "source": [
    "trait List[+T] {\n",
    "  def isEmpty: Boolean\n",
    "  def head: T\n",
    "  def tail: List[T]\n",
    "}\n",
    "\n",
    "class Cons[T](val head: T, val tail: List[T]) extends List[T] {\n",
    "  def isEmpty = false\n",
    "}\n",
    "\n",
    "object Nil extends List[Nothing] { // 我们需要Nil是所有List[T]的子类，又因为+T，所以填Nothing\n",
    "  def isEmpty: Boolean = true\n",
    "  def head: Nothing = throw new NoSuchElementException(\"Nil.head\")\n",
    "  def tail: Nothing = throw new NoSuchElementException(\"Nil.tail\")\n",
    "}"
   ]
  },
  {
   "cell_type": "markdown",
   "metadata": {},
   "source": [
    "下面这个调用可以通过编译\n",
    "\n",
    "Nil是List[Nothing]，Nothing是String的子类，所以List[Nothing]是List[String]的子类"
   ]
  },
  {
   "cell_type": "code",
   "execution_count": 4,
   "metadata": {},
   "outputs": [
    {
     "data": {
      "text/plain": [
       "\u001b[36mx\u001b[39m: \u001b[32mList\u001b[39m[\u001b[32mString\u001b[39m] = $sess.cmd2Wrapper$Helper$Nil$@51a30db6"
      ]
     },
     "execution_count": 4,
     "metadata": {},
     "output_type": "execute_result"
    }
   ],
   "source": [
    "val x: List[String] = Nil"
   ]
  },
  {
   "cell_type": "markdown",
   "metadata": {},
   "source": [
    "### 现在想在List中实现prepend"
   ]
  },
  {
   "cell_type": "markdown",
   "metadata": {},
   "source": [
    "下面这种实现方式是不行的，因为参数不能是+T\n",
    "\n",
    "举个例子，现在有`xs = List[IntSet]`，我能够`xs.prepend(Empty)`，因为`Empty`是`IntSet`的子类\n",
    "\n",
    "又有`ys = List[NonEmpty]`，`ys.prepend(Emtpy)`是不对的，因为`Empty`不是是`NonEmpty`的子类\n",
    "\n",
    "所以这时候违反了+T的原则（父类能干的事情子类都能干）"
   ]
  },
  {
   "cell_type": "code",
   "execution_count": 6,
   "metadata": {},
   "outputs": [
    {
     "name": "stderr",
     "output_type": "stream",
     "text": [
      "cmd6.sc:5: covariant type T occurs in contravariant position in type T of value elem\n",
      "  def prepend(elem: T): List[T] = new Cons(elem, this)\n",
      "              ^"
     ]
    },
    {
     "ename": "",
     "evalue": "",
     "output_type": "error",
     "traceback": [
      "Compilation Failed"
     ]
    }
   ],
   "source": [
    "// 现在想在List中实现prepend\n",
    "trait List[+T] {\n",
    "  def isEmpty: Boolean\n",
    "  def head: T\n",
    "  def tail: List[T]\n",
    "  def prepend(elem: T): List[T] = new Cons(elem, this) // 这样不行，因为参数不能是+T\n",
    "}\n",
    "\n",
    "class Cons[T](val head: T, val tail: List[T]) extends List[T] {\n",
    "  def isEmpty = false\n",
    "}\n",
    "\n",
    "object Nil extends List[Nothing] {\n",
    "  def isEmpty: Boolean = true\n",
    "  def head: Nothing = throw new NoSuchElementException(\"Nil.head\")\n",
    "  def tail: Nothing = throw new NoSuchElementException(\"Nil.tail\")\n",
    "}\n"
   ]
  },
  {
   "cell_type": "markdown",
   "metadata": {},
   "source": [
    "可以用下面的方式写，接受T的父类U\n",
    "\n",
    "总结：\n",
    "\n",
    "* covariant type parameter(+T)可能出现在方法参数的lower bound中(U >: T)\n",
    "* contravariant type parameter(-T)可能出现在方法参数的upper bound中(U <: T)"
   ]
  },
  {
   "cell_type": "code",
   "execution_count": 7,
   "metadata": {},
   "outputs": [
    {
     "data": {
      "text/plain": [
       "defined \u001b[32mtrait\u001b[39m \u001b[36mList\u001b[39m\n",
       "defined \u001b[32mclass\u001b[39m \u001b[36mCons\u001b[39m\n",
       "defined \u001b[32mobject\u001b[39m \u001b[36mNil\u001b[39m"
      ]
     },
     "execution_count": 7,
     "metadata": {},
     "output_type": "execute_result"
    }
   ],
   "source": [
    "// 现在想在List中实现prepend\n",
    "trait List[+T] {\n",
    "  def isEmpty: Boolean\n",
    "  def head: T\n",
    "  def tail: List[T]\n",
    "  def prepend[U >: T](elem: U): List[U] = new Cons(elem, this)\n",
    "}\n",
    "\n",
    "class Cons[T](val head: T, val tail: List[T]) extends List[T] {\n",
    "  def isEmpty = false\n",
    "}\n",
    "\n",
    "object Nil extends List[Nothing] {\n",
    "  def isEmpty: Boolean = true\n",
    "  def head: Nothing = throw new NoSuchElementException(\"Nil.head\")\n",
    "  def tail: Nothing = throw new NoSuchElementException(\"Nil.tail\")\n",
    "}\n"
   ]
  },
  {
   "cell_type": "markdown",
   "metadata": {},
   "source": [
    "下面这个可以跑通（NonEmpty, Empty没在这里实现，有空加上吧）\n",
    "\n",
    "原本xs是NonEmpty，调用了prepend后，接受了Empty类型的参数，scala会吧xs变为IntSet"
   ]
  },
  {
   "cell_type": "code",
   "execution_count": 7,
   "metadata": {},
   "outputs": [
    {
     "name": "stderr",
     "output_type": "stream",
     "text": [
      "cmd7.sc:1: not found: type NonEmpty\n",
      "def f(xs: List[NonEmpty], elem: Empty) = xs.prepend(x)\n",
      "               ^cmd7.sc:1: not found: type Empty\n",
      "def f(xs: List[NonEmpty], elem: Empty) = xs.prepend(x)\n",
      "                                ^"
     ]
    },
    {
     "ename": "",
     "evalue": "",
     "output_type": "error",
     "traceback": [
      "Compilation Failed"
     ]
    }
   ],
   "source": [
    "def f(xs: List[NonEmpty], elem: Empty) = xs.prepend(x)"
   ]
  },
  {
   "cell_type": "code",
   "execution_count": null,
   "metadata": {
    "collapsed": true
   },
   "outputs": [],
   "source": []
  }
 ],
 "metadata": {
  "kernelspec": {
   "display_name": "Scala",
   "language": "scala",
   "name": "scala"
  },
  "language_info": {
   "codemirror_mode": "text/x-scala",
   "file_extension": ".scala",
   "mimetype": "text/x-scala",
   "name": "scala211",
   "nbconvert_exporter": "script",
   "pygments_lexer": "scala",
   "version": "2.11.11"
  }
 },
 "nbformat": 4,
 "nbformat_minor": 2
}
