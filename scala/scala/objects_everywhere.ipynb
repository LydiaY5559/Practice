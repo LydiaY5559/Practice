{
 "cells": [
  {
   "cell_type": "markdown",
   "metadata": {
    "collapsed": true
   },
   "source": [
    "Scala是函数式编程，但同时它也是面向对象，在Scala中所有变量都是对象"
   ]
  },
  {
   "cell_type": "markdown",
   "metadata": {},
   "source": [
    "scala的Boolean是使用java的Boolean\n",
    "\n",
    "我们也可以通过class来实现，不使用任何原生的类型\n",
    "\n",
    "（其实这里我没有特别理解，下面的class是通过java的boolean的ifThenElse来实现？）\n",
    "\n",
    "```scala\n",
    "package idealized.scala // 表示接下来实现的Boolean与正常的Boolean是不同的\n",
    "\n",
    "abstract class Boolean {\n",
    "  def ifThenElse[T](t: => T, e: => T): T // 如果是真就返回t(then)，否则返回e(else)\n",
    "\n",
    "  // 如果有了ifThenElse，我们可以用它... \n",
    "  def && (x: => Boolean): Boolean = ifThenElse(x, false)\n",
    "  def || (x: => Boolean): Boolean = ifThenElse(true, x)\n",
    "  def unary_! : Boolean = ifThenElse(false, true)\n",
    "\n",
    "  def == (x: Boolean): Boolean = ifThenElse(x, x.unary_!)\n",
    "  def != (x: Boolean): Boolean = ifThenElse(x.unary_!, x)\n",
    "}\n",
    "\n",
    "// 上面的true和false都是Boolean的一个对象\n",
    "object true extends Boolean {\n",
    "  def ifThenElse[T](t: => T, e: => T): T = t\n",
    "}\n",
    "\n",
    "object false extends Boolean {\n",
    "  def ifThenElse[T](t: => T, e: => T): T = e\n",
    "}\n",
    "```"
   ]
  },
  {
   "cell_type": "code",
   "execution_count": 1,
   "metadata": {},
   "outputs": [
    {
     "data": {
      "text/plain": [
       "defined \u001b[32mclass\u001b[39m \u001b[36mNat\u001b[39m"
      ]
     },
     "execution_count": 1,
     "metadata": {},
     "output_type": "execute_result"
    }
   ],
   "source": [
    "abstract class Nat {\n",
    "  def isZero: Boolean\n",
    "  def predecessor: Nat\n",
    "  def successor: Nat\n",
    "  def + (that: Nat): Nat\n",
    "  def - (that: Nat): Nat\n",
    "}"
   ]
  },
  {
   "cell_type": "code",
   "execution_count": 2,
   "metadata": {
    "scrolled": false
   },
   "outputs": [
    {
     "data": {
      "text/plain": [
       "defined \u001b[32mobject\u001b[39m \u001b[36mZero\u001b[39m\n",
       "defined \u001b[32mclass\u001b[39m \u001b[36mSucc\u001b[39m"
      ]
     },
     "execution_count": 2,
     "metadata": {},
     "output_type": "execute_result"
    }
   ],
   "source": [
    "object Zero extends Nat {\n",
    "  def isZero = true \n",
    "  def predecessor = throw new Error(\"0.predecessor\")\n",
    "  def successor = new Succ(this)\n",
    "  def + (that: Nat) = that\n",
    "  def - (that: Nat) = if (that.isZero) this else throw new Error(\"negative\")\n",
    "}\n",
    "\n",
    "class Succ(n: Nat) extends Nat { // n的下一个值\n",
    "  def isZero = false\n",
    "  def predecessor = n // 因为Succ是n的下一个值，也就是n+1，所以n+1的前一个值就是n\n",
    "  def successor = new Succ(this)\n",
    "  def + (that: Nat) = new Succ(n + that) // 相当于 n+1 + that -> n+that + 1\n",
    "//   def - (that: Nat) = new Succ(n - that) // 相当于 n+1 - that -> n+that - 1，但这样不行，因为n有可能是0，但Succ(0)表示1\n",
    "  def - (that: Nat) = if (that.isZero) this else n - that.predecessor // 相当于 n+1 - that -> n - (that-1)\n",
    "}"
   ]
  },
  {
   "cell_type": "markdown",
   "metadata": {},
   "source": [
    "上面Nat的实现就是Peano Numbers"
   ]
  },
  {
   "cell_type": "markdown",
   "metadata": {},
   "source": [
    "接下来，看看效果"
   ]
  },
  {
   "cell_type": "code",
   "execution_count": 3,
   "metadata": {},
   "outputs": [
    {
     "data": {
      "text/plain": [
       "\u001b[36mres2\u001b[39m: \u001b[32mZero\u001b[39m.type = $sess.cmd1Wrapper$Helper$Zero$@11cedd54"
      ]
     },
     "execution_count": 3,
     "metadata": {},
     "output_type": "execute_result"
    }
   ],
   "source": [
    "Zero"
   ]
  },
  {
   "cell_type": "code",
   "execution_count": 4,
   "metadata": {},
   "outputs": [
    {
     "data": {
      "text/plain": [
       "\u001b[36mOne\u001b[39m: \u001b[32mSucc\u001b[39m = $sess.cmd1Wrapper$Helper$Succ@692b571f"
      ]
     },
     "execution_count": 4,
     "metadata": {},
     "output_type": "execute_result"
    }
   ],
   "source": [
    "val One = new Succ(Zero)"
   ]
  },
  {
   "cell_type": "markdown",
   "metadata": {},
   "source": [
    "可以看到One - One得到的地址就是Zero的地址"
   ]
  },
  {
   "cell_type": "code",
   "execution_count": 5,
   "metadata": {},
   "outputs": [
    {
     "data": {
      "text/plain": [
       "\u001b[36mres4\u001b[39m: \u001b[32mNat\u001b[39m = $sess.cmd1Wrapper$Helper$Zero$@11cedd54"
      ]
     },
     "execution_count": 5,
     "metadata": {},
     "output_type": "execute_result"
    }
   ],
   "source": [
    "One - One"
   ]
  },
  {
   "cell_type": "code",
   "execution_count": 6,
   "metadata": {},
   "outputs": [
    {
     "data": {
      "text/plain": [
       "\u001b[36mres5\u001b[39m: \u001b[32mSucc\u001b[39m = $sess.cmd1Wrapper$Helper$Succ@4e08b930"
      ]
     },
     "execution_count": 6,
     "metadata": {},
     "output_type": "execute_result"
    }
   ],
   "source": [
    "One + One"
   ]
  },
  {
   "cell_type": "code",
   "execution_count": 7,
   "metadata": {},
   "outputs": [
    {
     "data": {
      "text/plain": [
       "\u001b[36mres6\u001b[39m: \u001b[32mNat\u001b[39m = $sess.cmd1Wrapper$Helper$Zero$@11cedd54"
      ]
     },
     "execution_count": 7,
     "metadata": {},
     "output_type": "execute_result"
    }
   ],
   "source": [
    "One + One - new Succ(One) // 结果也是Zero"
   ]
  },
  {
   "cell_type": "code",
   "execution_count": null,
   "metadata": {
    "collapsed": true
   },
   "outputs": [],
   "source": []
  }
 ],
 "metadata": {
  "kernelspec": {
   "display_name": "Scala",
   "language": "scala",
   "name": "scala"
  },
  "language_info": {
   "codemirror_mode": "text/x-scala",
   "file_extension": ".scala",
   "mimetype": "text/x-scala",
   "name": "scala211",
   "nbconvert_exporter": "script",
   "pygments_lexer": "scala",
   "version": "2.11.11"
  }
 },
 "nbformat": 4,
 "nbformat_minor": 2
}
