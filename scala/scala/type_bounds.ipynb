{
 "cells": [
  {
   "cell_type": "markdown",
   "metadata": {},
   "source": [
    "# type bounds\n",
    "\n",
    "```scala\n",
    "// upper type bounds\n",
    "class C[T <: A](...) {...} // 表示T是A的subtype\n",
    "\n",
    "// lower type bounds\n",
    "class C[T >: B](...) {...} // 表示T是B的supertype\n",
    "\n",
    "class C[T <: A >: B](...) {...} // T在B和A质检\n",
    "```"
   ]
  },
  {
   "cell_type": "markdown",
   "metadata": {},
   "source": [
    "如果`A <: B`，那么类型`B`能做的类型`A`也能做\n"
   ]
  },
  {
   "cell_type": "markdown",
   "metadata": {},
   "source": [
    "## Type rules for Functions\n",
    "<p id=\"type_rules_for_functions\"><p>\n",
    "\n",
    "如果`A1 >: A2`而且`B1 <: B2`，则`A1 => B1 <: A2 => B2`\n",
    "\n",
    "解释：假设有一个函数`A => B`，`A2`是`A1`的子类，所以`A`能代入`A2 =>`也就能代入`A1 =>`，然后`B1`是`B2`的子类，所以函数结果`=> B1`是在函数结果`=> B2`的范围内"
   ]
  },
  {
   "cell_type": "code",
   "execution_count": null,
   "metadata": {
    "collapsed": true
   },
   "outputs": [],
   "source": []
  }
 ],
 "metadata": {
  "kernelspec": {
   "display_name": "Scala",
   "language": "scala",
   "name": "scala"
  },
  "language_info": {
   "codemirror_mode": "text/x-scala",
   "file_extension": ".scala",
   "mimetype": "text/x-scala",
   "name": "scala211",
   "nbconvert_exporter": "script",
   "pygments_lexer": "scala",
   "version": "2.11.11"
  }
 },
 "nbformat": 4,
 "nbformat_minor": 2
}
