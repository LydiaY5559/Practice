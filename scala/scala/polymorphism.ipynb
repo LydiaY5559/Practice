{
 "cells": [
  {
   "cell_type": "markdown",
   "metadata": {},
   "source": [
    "# Polymorphism (多态)"
   ]
  },
  {
   "cell_type": "markdown",
   "metadata": {},
   "source": [
    "**Cons-Lists**\n",
    "\n",
    "在大多数函数式编程中，基本的数据结构是不可变链接的列表（immutable linked list）\n",
    "\n",
    "它由两部分组成：\n",
    "\n",
    "* Nil  表示空List\n",
    "* Cons 表示一个元素和剩下的元素List\n"
   ]
  },
  {
   "attachments": {},
   "cell_type": "markdown",
   "metadata": {},
   "source": [
    "**举例**\n",
    "\n",
    "```\n",
    "List(1, 2, 3)            List(List(true, false), 3)\n",
    "```\n",
    "\n",
    "<img src=\"assets/polymorphism/list_cons1.png\" width=\"220\" align=\"left\">\n",
    "<img src=\"assets/polymorphism/list_cons2.png\" width=\"270\" align=\"left\">"
   ]
  },
  {
   "cell_type": "markdown",
   "metadata": {},
   "source": [
    "Int的List可以这么写\n",
    "\n",
    "```scala\n",
    "trait IntList\n",
    "class Cons(val head: Int, val tail: IntList) extends IntList ...\n",
    "class Nil extends IntList ...\n",
    "```\n",
    "\n",
    "但是如果我们需要其他类型的List怎么办\n",
    "\n",
    "可以在后面跟[T]来表示类型T"
   ]
  },
  {
   "cell_type": "code",
   "execution_count": 1,
   "metadata": {},
   "outputs": [
    {
     "data": {
      "text/plain": [
       "defined \u001b[32mtrait\u001b[39m \u001b[36mList\u001b[39m"
      ]
     },
     "execution_count": 1,
     "metadata": {},
     "output_type": "execute_result"
    }
   ],
   "source": [
    "trait List[T] {\n",
    "  def isEmpty: Boolean\n",
    "  def head: T\n",
    "  def tail: List[T]\n",
    "  def retrieve(i: Int): T // 返回第i个元素（从0开始）\n",
    "}"
   ]
  },
  {
   "cell_type": "code",
   "execution_count": 2,
   "metadata": {},
   "outputs": [
    {
     "data": {
      "text/plain": [
       "defined \u001b[32mclass\u001b[39m \u001b[36mCons\u001b[39m"
      ]
     },
     "execution_count": 2,
     "metadata": {},
     "output_type": "execute_result"
    }
   ],
   "source": [
    "class Cons[T](val head: T, val tail: List[T]) extends List[T] {\n",
    "  def isEmpty: Boolean = false\n",
    "  def retrieve(i: Int): T = if (i == 0) head else tail.retrieve(i - 1)\n",
    "  override def toString = head.toString + \", \" + tail.toString\n",
    "}"
   ]
  },
  {
   "cell_type": "code",
   "execution_count": 3,
   "metadata": {},
   "outputs": [
    {
     "data": {
      "text/plain": [
       "defined \u001b[32mclass\u001b[39m \u001b[36mNil\u001b[39m"
      ]
     },
     "execution_count": 3,
     "metadata": {},
     "output_type": "execute_result"
    }
   ],
   "source": [
    "class Nil[T] extends List[T] {\n",
    "  def isEmpty: Boolean = true\n",
    "  // 由于Nothing是所有类的子类，所以也是T的子类\n",
    "  def head: Nothing = throw new NoSuchElementException(\"Nil.head\")\n",
    "  def tail: Nothing = throw new NoSuchElementException(\"Nil.tail\")\n",
    "  def retrieve(i: Int): Nothing = throw new IndexOutOfBoundsException(\"out of bound\")\n",
    "  override def toString = \"Nil\"\n",
    "}"
   ]
  },
  {
   "cell_type": "markdown",
   "metadata": {},
   "source": [
    "函数同样可以使用多态"
   ]
  },
  {
   "cell_type": "code",
   "execution_count": 4,
   "metadata": {},
   "outputs": [
    {
     "data": {
      "text/plain": [
       "defined \u001b[32mfunction\u001b[39m \u001b[36msingleton\u001b[39m"
      ]
     },
     "execution_count": 4,
     "metadata": {},
     "output_type": "execute_result"
    }
   ],
   "source": [
    "def singleton[T](elem: T) = new Cons[T](elem, new Nil[T])"
   ]
  },
  {
   "cell_type": "markdown",
   "metadata": {},
   "source": [
    "通过下面的方式调用"
   ]
  },
  {
   "cell_type": "code",
   "execution_count": 5,
   "metadata": {},
   "outputs": [
    {
     "data": {
      "text/plain": [
       "\u001b[36mres4\u001b[39m: \u001b[32mCons\u001b[39m[\u001b[32mInt\u001b[39m] = 1, Nil"
      ]
     },
     "execution_count": 5,
     "metadata": {},
     "output_type": "execute_result"
    }
   ],
   "source": [
    "singleton[Int](1)"
   ]
  },
  {
   "cell_type": "code",
   "execution_count": 6,
   "metadata": {},
   "outputs": [
    {
     "data": {
      "text/plain": [
       "\u001b[36mres5\u001b[39m: \u001b[32mCons\u001b[39m[\u001b[32mBoolean\u001b[39m] = true, Nil"
      ]
     },
     "execution_count": 6,
     "metadata": {},
     "output_type": "execute_result"
    }
   ],
   "source": [
    "singleton[Boolean](true)"
   ]
  },
  {
   "cell_type": "markdown",
   "metadata": {},
   "source": [
    "也可以去掉[T]，scala会进行推断"
   ]
  },
  {
   "cell_type": "code",
   "execution_count": 7,
   "metadata": {},
   "outputs": [
    {
     "data": {
      "text/plain": [
       "\u001b[36mres6\u001b[39m: \u001b[32mCons\u001b[39m[\u001b[32mInt\u001b[39m] = 1, Nil"
      ]
     },
     "execution_count": 7,
     "metadata": {},
     "output_type": "execute_result"
    }
   ],
   "source": [
    "singleton(1)"
   ]
  },
  {
   "cell_type": "code",
   "execution_count": 8,
   "metadata": {},
   "outputs": [
    {
     "data": {
      "text/plain": [
       "\u001b[36mres7\u001b[39m: \u001b[32mCons\u001b[39m[\u001b[32mBoolean\u001b[39m] = true, Nil"
      ]
     },
     "execution_count": 8,
     "metadata": {},
     "output_type": "execute_result"
    }
   ],
   "source": [
    "singleton(true)"
   ]
  },
  {
   "cell_type": "markdown",
   "metadata": {},
   "source": [
    "类型参数(Type Parameter)不会影响执行\n",
    "\n",
    "可以想象，所有类型参数都会被去掉\n",
    "\n",
    "这种情形被称为type erasure\n",
    "\n",
    "type erasure的语言包括：Java, Scala, Haskell, ML, OCaml\n",
    "\n",
    "在执行中保持类型参数的语言包括：C++, C#, F#"
   ]
  },
  {
   "cell_type": "code",
   "execution_count": 9,
   "metadata": {
    "scrolled": true
   },
   "outputs": [
    {
     "data": {
      "text/plain": [
       "\u001b[36ml\u001b[39m: \u001b[32mCons\u001b[39m[\u001b[32mInt\u001b[39m] = 1, 2, 3, Nil"
      ]
     },
     "execution_count": 9,
     "metadata": {},
     "output_type": "execute_result"
    }
   ],
   "source": [
    "val l = new Cons(1, new Cons(2, new Cons(3, new Nil)))"
   ]
  },
  {
   "cell_type": "code",
   "execution_count": 10,
   "metadata": {},
   "outputs": [
    {
     "data": {
      "text/plain": [
       "\u001b[36mres9\u001b[39m: \u001b[32mInt\u001b[39m = \u001b[32m3\u001b[39m"
      ]
     },
     "execution_count": 10,
     "metadata": {},
     "output_type": "execute_result"
    }
   ],
   "source": [
    "l.retrieve(2)"
   ]
  },
  {
   "cell_type": "code",
   "execution_count": null,
   "metadata": {
    "collapsed": true
   },
   "outputs": [],
   "source": []
  }
 ],
 "metadata": {
  "kernelspec": {
   "display_name": "Scala",
   "language": "scala",
   "name": "scala"
  },
  "language_info": {
   "codemirror_mode": "text/x-scala",
   "file_extension": ".scala",
   "mimetype": "text/x-scala",
   "name": "scala211",
   "nbconvert_exporter": "script",
   "pygments_lexer": "scala",
   "version": "2.11.11"
  }
 },
 "nbformat": 4,
 "nbformat_minor": 2
}
