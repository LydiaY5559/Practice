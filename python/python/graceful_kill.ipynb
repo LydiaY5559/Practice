{
 "cells": [
  {
   "cell_type": "markdown",
   "metadata": {},
   "source": [
    "## 优雅的终止python程序\n",
    "\n",
    "捕捉SIGTERM信号（也可以是其他信号），然后exit"
   ]
  },
  {
   "cell_type": "markdown",
   "metadata": {},
   "source": [
    "**查看python代码**"
   ]
  },
  {
   "cell_type": "code",
   "execution_count": 1,
   "metadata": {},
   "outputs": [
    {
     "name": "stdout",
     "output_type": "stream",
     "text": [
      "# coding: utf8\r\n",
      "import signal\r\n",
      "import time\r\n",
      "\r\n",
      "class GracefulKiller(object):\r\n",
      "    kill_now = False\r\n",
      "\r\n",
      "    def __init__(self):\r\n",
      "        # signal.signal(signal.SIGINT, self.exit_gracefully)\r\n",
      "        signal.signal(signal.SIGTERM, self.exit_gracefully)\r\n",
      "\r\n",
      "    def exit_gracefully(self, signum, frame):\r\n",
      "        self.kill_now = True\r\n",
      "\r\n",
      "if __name__ == '__main__':\r\n",
      "    killer = GracefulKiller()\r\n",
      "    while True:\r\n",
      "        time.sleep(1)\r\n",
      "        print('do something')\r\n",
      "        if killer.kill_now:\r\n",
      "            print('gracefully exit')\r\n",
      "            exit(0)"
     ]
    }
   ],
   "source": [
    "!cat graceful_kill.py"
   ]
  },
  {
   "cell_type": "markdown",
   "metadata": {},
   "source": [
    "**异步执行python代码**"
   ]
  },
  {
   "cell_type": "code",
   "execution_count": 2,
   "metadata": {
    "collapsed": true
   },
   "outputs": [],
   "source": [
    "!mkdir -p tmp"
   ]
  },
  {
   "cell_type": "code",
   "execution_count": 3,
   "metadata": {},
   "outputs": [
    {
     "data": {
      "text/plain": [
       "0"
      ]
     },
     "execution_count": 3,
     "metadata": {},
     "output_type": "execute_result"
    }
   ],
   "source": [
    "import os\n",
    "cmd = 'python -u graceful_kill.py > tmp/graceful_kill.log 2>&1 &'\n",
    "os.system(cmd)"
   ]
  },
  {
   "cell_type": "markdown",
   "metadata": {},
   "source": [
    "**查看进程**"
   ]
  },
  {
   "cell_type": "code",
   "execution_count": 4,
   "metadata": {},
   "outputs": [
    {
     "name": "stdout",
     "output_type": "stream",
     "text": [
      "hahadsg          99545   0.0  0.1  2463692   4780   ??  S    10:46上午   0:00.03 python -u graceful_kill.py\r\n"
     ]
    }
   ],
   "source": [
    "!ps aux | grep graceful_kill.py | grep -v grep"
   ]
  },
  {
   "cell_type": "markdown",
   "metadata": {},
   "source": [
    "**终止方式`kill -SIGTERM pid`或者`kill pid`**"
   ]
  },
  {
   "cell_type": "code",
   "execution_count": 5,
   "metadata": {},
   "outputs": [],
   "source": [
    "!ps aux | grep graceful_kill.py | grep -v grep | awk '{print $2}' | xargs kill -SIGTERM"
   ]
  },
  {
   "cell_type": "markdown",
   "metadata": {},
   "source": [
    "**再次查看进程 已经被终止**"
   ]
  },
  {
   "cell_type": "code",
   "execution_count": 6,
   "metadata": {},
   "outputs": [
    {
     "name": "stdout",
     "output_type": "stream",
     "text": [
      "hahadsg          99559   0.0  0.0  2442020    768 s010  R+   10:46上午   0:00.00 grep graceful_kill.py\r\n",
      "hahadsg          99557   0.0  0.0  2444660   1092 s010  Ss+  10:46上午   0:00.00 /bin/sh -c ps aux | grep graceful_kill.py\r\n"
     ]
    }
   ],
   "source": [
    "!ps aux | grep graceful_kill.py"
   ]
  },
  {
   "cell_type": "markdown",
   "metadata": {},
   "source": [
    "**查看日志，可以看到，程序捕获到了终止信号，并exit**"
   ]
  },
  {
   "cell_type": "code",
   "execution_count": 7,
   "metadata": {},
   "outputs": [
    {
     "name": "stdout",
     "output_type": "stream",
     "text": [
      "do something\r\n",
      "gracefully exit\r\n"
     ]
    }
   ],
   "source": [
    "!cat tmp/graceful_kill.log"
   ]
  },
  {
   "cell_type": "code",
   "execution_count": null,
   "metadata": {
    "collapsed": true
   },
   "outputs": [],
   "source": []
  }
 ],
 "metadata": {
  "kernelspec": {
   "display_name": "Python 3",
   "language": "python",
   "name": "python3"
  },
  "language_info": {
   "codemirror_mode": {
    "name": "ipython",
    "version": 3
   },
   "file_extension": ".py",
   "mimetype": "text/x-python",
   "name": "python",
   "nbconvert_exporter": "python",
   "pygments_lexer": "ipython3",
   "version": "3.5.1"
  }
 },
 "nbformat": 4,
 "nbformat_minor": 2
}
