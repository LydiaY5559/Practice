{
 "cells": [
  {
   "cell_type": "markdown",
   "metadata": {},
   "source": [
    "## decorator例子\n",
    "\n",
    "  下面两个效果相同"
   ]
  },
  {
   "cell_type": "code",
   "execution_count": 1,
   "metadata": {
    "collapsed": true
   },
   "outputs": [],
   "source": [
    "def debuglogin(func):\n",
    "    def wrapper():\n",
    "        print('debug begin')\n",
    "        func()\n",
    "        print('debug end')\n",
    "        return\n",
    "    return wrapper"
   ]
  },
  {
   "cell_type": "code",
   "execution_count": 2,
   "metadata": {},
   "outputs": [
    {
     "name": "stdout",
     "output_type": "stream",
     "text": [
      "debug begin\n",
      "login\n",
      "debug end\n"
     ]
    }
   ],
   "source": [
    "@debuglogin\n",
    "def login():\n",
    "    print('login')\n",
    "    \n",
    "login()"
   ]
  },
  {
   "cell_type": "code",
   "execution_count": 3,
   "metadata": {},
   "outputs": [
    {
     "name": "stdout",
     "output_type": "stream",
     "text": [
      "debug begin\n",
      "login\n",
      "debug end\n"
     ]
    }
   ],
   "source": [
    "def login():\n",
    "    print('login')\n",
    "    \n",
    "debuglogin(login)()"
   ]
  },
  {
   "cell_type": "markdown",
   "metadata": {},
   "source": [
    "## login带参数"
   ]
  },
  {
   "cell_type": "code",
   "execution_count": 4,
   "metadata": {
    "collapsed": true
   },
   "outputs": [],
   "source": [
    "def debuglogin(func):\n",
    "    def wrapper(*args, **kwargs):\n",
    "        print('debug begin')\n",
    "        func(*args, **kwargs)\n",
    "        print('debug end')\n",
    "        return\n",
    "    return wrapper"
   ]
  },
  {
   "cell_type": "code",
   "execution_count": 5,
   "metadata": {},
   "outputs": [
    {
     "name": "stdout",
     "output_type": "stream",
     "text": [
      "debug begin\n",
      "zjf login\n",
      "debug end\n"
     ]
    }
   ],
   "source": [
    "@debuglogin\n",
    "def login(user):\n",
    "    print('%s login' % user)\n",
    "    \n",
    "login('zjf')"
   ]
  },
  {
   "cell_type": "code",
   "execution_count": 6,
   "metadata": {},
   "outputs": [
    {
     "name": "stdout",
     "output_type": "stream",
     "text": [
      "debug begin\n",
      "zjf login\n",
      "debug end\n"
     ]
    }
   ],
   "source": [
    "def login(user):\n",
    "    print('%s login' % user)\n",
    "    \n",
    "debuglogin(login)('zjf')"
   ]
  },
  {
   "cell_type": "markdown",
   "metadata": {},
   "source": [
    "## debuglogin带参数"
   ]
  },
  {
   "cell_type": "code",
   "execution_count": 7,
   "metadata": {
    "collapsed": true
   },
   "outputs": [],
   "source": [
    "def debugloginparam(param):\n",
    "    print('decorator param: %s' % param)\n",
    "    def debuglogin(func):\n",
    "        def wrapper(*args, **kwargs):\n",
    "            print('debug begin')\n",
    "            func(*args, **kwargs)\n",
    "            print('debug end')\n",
    "            return\n",
    "        return wrapper\n",
    "    return debuglogin"
   ]
  },
  {
   "cell_type": "code",
   "execution_count": 8,
   "metadata": {},
   "outputs": [
    {
     "name": "stdout",
     "output_type": "stream",
     "text": [
      "decorator param: 111\n",
      "debug begin\n",
      "zjf login\n",
      "debug end\n"
     ]
    }
   ],
   "source": [
    "@debugloginparam('111')\n",
    "def login(user):\n",
    "    print('%s login' % user)\n",
    "    \n",
    "login('zjf')"
   ]
  },
  {
   "cell_type": "code",
   "execution_count": 9,
   "metadata": {},
   "outputs": [
    {
     "name": "stdout",
     "output_type": "stream",
     "text": [
      "decorator param: 111\n",
      "debug begin\n",
      "zjf login\n",
      "debug end\n"
     ]
    }
   ],
   "source": [
    "def login(user):\n",
    "    print('%s login' % user)\n",
    "    \n",
    "debugloginparam('111')(login)('zjf')"
   ]
  },
  {
   "cell_type": "markdown",
   "metadata": {},
   "source": [
    "## login return"
   ]
  },
  {
   "cell_type": "code",
   "execution_count": 10,
   "metadata": {
    "collapsed": true
   },
   "outputs": [],
   "source": [
    "def debugloginparam(param):\n",
    "    print('decorator param: %s' % param)\n",
    "    def debuglogin(func):\n",
    "        def wrapper(*args, **kwargs):\n",
    "            print('debug begin')\n",
    "            res = func(*args, **kwargs)\n",
    "            print('debug end')\n",
    "            return res\n",
    "        return wrapper\n",
    "    return debuglogin"
   ]
  },
  {
   "cell_type": "code",
   "execution_count": 11,
   "metadata": {},
   "outputs": [
    {
     "name": "stdout",
     "output_type": "stream",
     "text": [
      "decorator param: 111\n",
      "debug begin\n",
      "zjf login\n",
      "debug end\n"
     ]
    },
    {
     "data": {
      "text/plain": [
       "'login succ'"
      ]
     },
     "execution_count": 11,
     "metadata": {},
     "output_type": "execute_result"
    }
   ],
   "source": [
    "@debugloginparam('111')\n",
    "def login(user):\n",
    "    print('%s login' % user)\n",
    "    return 'login succ'\n",
    "    \n",
    "login('zjf')"
   ]
  },
  {
   "cell_type": "code",
   "execution_count": 12,
   "metadata": {},
   "outputs": [
    {
     "name": "stdout",
     "output_type": "stream",
     "text": [
      "decorator param: 111\n",
      "debug begin\n",
      "zjf login\n",
      "debug end\n"
     ]
    },
    {
     "data": {
      "text/plain": [
       "'login succ'"
      ]
     },
     "execution_count": 12,
     "metadata": {},
     "output_type": "execute_result"
    }
   ],
   "source": [
    "def login(user):\n",
    "    print('%s login' % user)\n",
    "    return 'login succ'\n",
    "    \n",
    "debugloginparam('111')(login)('zjf')"
   ]
  },
  {
   "cell_type": "code",
   "execution_count": null,
   "metadata": {
    "collapsed": true
   },
   "outputs": [],
   "source": []
  }
 ],
 "metadata": {
  "kernelspec": {
   "display_name": "Python 3",
   "language": "python",
   "name": "python3"
  },
  "language_info": {
   "codemirror_mode": {
    "name": "ipython",
    "version": 3
   },
   "file_extension": ".py",
   "mimetype": "text/x-python",
   "name": "python",
   "nbconvert_exporter": "python",
   "pygments_lexer": "ipython3",
   "version": "3.5.1"
  }
 },
 "nbformat": 4,
 "nbformat_minor": 2
}
