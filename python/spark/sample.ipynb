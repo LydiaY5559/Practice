{
 "cells": [
  {
   "cell_type": "code",
   "execution_count": 1,
   "metadata": {
    "collapsed": true
   },
   "outputs": [],
   "source": [
    "import datetime\n",
    "\n",
    "import pyspark\n",
    "from pyspark.sql import SparkSession, SQLContext\n",
    "from pyspark.sql.types import StructType, StructField, IntegerType, StringType, DateType, ArrayType\n",
    "from pyspark.sql import functions as F\n",
    "from pyspark.sql.functions import col\n",
    "from pyspark.ml.linalg import Vectors, VectorUDT\n",
    "from pyspark.ml.feature import VectorAssembler\n",
    "from pyspark.ml.pipeline import Pipeline"
   ]
  },
  {
   "cell_type": "code",
   "execution_count": 2,
   "metadata": {
    "collapsed": true
   },
   "outputs": [],
   "source": [
    "spark = SparkSession \\\n",
    "    .builder \\\n",
    "    .appName(\"example\") \\\n",
    "    .getOrCreate()\n",
    "sc = spark.sparkContext\n",
    "sql_ctx = SQLContext(sc)"
   ]
  },
  {
   "cell_type": "code",
   "execution_count": 3,
   "metadata": {},
   "outputs": [
    {
     "name": "stdout",
     "output_type": "stream",
     "text": [
      "+---+-----+\n",
      "| id|group|\n",
      "+---+-----+\n",
      "|  0|    0|\n",
      "|  1|    1|\n",
      "|  2|    2|\n",
      "|  3|    0|\n",
      "|  4|    1|\n",
      "|  5|    2|\n",
      "|  6|    0|\n",
      "|  7|    1|\n",
      "|  8|    2|\n",
      "|  9|    0|\n",
      "| 10|    1|\n",
      "| 11|    2|\n",
      "| 12|    0|\n",
      "| 13|    1|\n",
      "| 14|    2|\n",
      "| 15|    0|\n",
      "| 16|    1|\n",
      "| 17|    2|\n",
      "| 18|    0|\n",
      "| 19|    1|\n",
      "+---+-----+\n",
      "\n"
     ]
    }
   ],
   "source": [
    "df = sql_ctx.range(0, 20)\n",
    "df = df.withColumn('group', col('id')%3)\n",
    "df.show()"
   ]
  },
  {
   "cell_type": "markdown",
   "metadata": {},
   "source": [
    "## sample"
   ]
  },
  {
   "cell_type": "code",
   "execution_count": 4,
   "metadata": {},
   "outputs": [
    {
     "name": "stdout",
     "output_type": "stream",
     "text": [
      "+---+-----+\n",
      "| id|group|\n",
      "+---+-----+\n",
      "|  0|    0|\n",
      "|  2|    2|\n",
      "|  4|    1|\n",
      "|  7|    1|\n",
      "|  9|    0|\n",
      "| 11|    2|\n",
      "| 12|    0|\n",
      "| 12|    0|\n",
      "| 16|    1|\n",
      "| 17|    2|\n",
      "| 18|    0|\n",
      "+---+-----+\n",
      "\n"
     ]
    }
   ],
   "source": [
    "# 放回抽样\n",
    "df.sample(True, 0.5).show()"
   ]
  },
  {
   "cell_type": "code",
   "execution_count": 5,
   "metadata": {},
   "outputs": [
    {
     "name": "stdout",
     "output_type": "stream",
     "text": [
      "+---+-----+\n",
      "| id|group|\n",
      "+---+-----+\n",
      "|  0|    0|\n",
      "|  1|    1|\n",
      "|  3|    0|\n",
      "|  7|    1|\n",
      "|  8|    2|\n",
      "|  9|    0|\n",
      "| 10|    1|\n",
      "| 11|    2|\n",
      "| 12|    0|\n",
      "| 17|    2|\n",
      "| 18|    0|\n",
      "+---+-----+\n",
      "\n"
     ]
    }
   ],
   "source": [
    "# 不放回抽样\n",
    "df.sample(False, 0.5).show()"
   ]
  },
  {
   "cell_type": "markdown",
   "metadata": {},
   "source": [
    "## sampleBy"
   ]
  },
  {
   "cell_type": "code",
   "execution_count": 6,
   "metadata": {},
   "outputs": [
    {
     "name": "stdout",
     "output_type": "stream",
     "text": [
      "+---+-----+\n",
      "| id|group|\n",
      "+---+-----+\n",
      "|  1|    1|\n",
      "|  3|    0|\n",
      "|  4|    1|\n",
      "|  7|    1|\n",
      "|  8|    2|\n",
      "|  9|    0|\n",
      "| 11|    2|\n",
      "| 13|    1|\n",
      "| 18|    0|\n",
      "+---+-----+\n",
      "\n"
     ]
    }
   ],
   "source": [
    "df.sampleBy('group', {0: 0.5, 1: 0.5, 2: 0.5}).show()"
   ]
  },
  {
   "cell_type": "code",
   "execution_count": null,
   "metadata": {
    "collapsed": true
   },
   "outputs": [],
   "source": []
  }
 ],
 "metadata": {
  "kernelspec": {
   "display_name": "Python 3",
   "language": "python",
   "name": "python3"
  },
  "language_info": {
   "codemirror_mode": {
    "name": "ipython",
    "version": 3
   },
   "file_extension": ".py",
   "mimetype": "text/x-python",
   "name": "python",
   "nbconvert_exporter": "python",
   "pygments_lexer": "ipython3",
   "version": "3.5.1"
  }
 },
 "nbformat": 4,
 "nbformat_minor": 2
}
