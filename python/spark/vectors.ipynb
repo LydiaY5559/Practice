{
 "cells": [
  {
   "cell_type": "code",
   "execution_count": 18,
   "metadata": {
    "collapsed": true
   },
   "outputs": [],
   "source": [
    "import pyspark\n",
    "from pyspark.sql import SparkSession, SQLContext\n",
    "from pyspark.sql.types import StructType, StructField, IntegerType, StringType, DateType, ArrayType\n",
    "from pyspark.sql import functions as F\n",
    "from pyspark.sql.functions import lit\n",
    "from pyspark.ml.linalg import Vectors, VectorUDT\n",
    "from pyspark.ml.feature import VectorAssembler\n",
    "from pyspark.ml.pipeline import Pipeline"
   ]
  },
  {
   "cell_type": "code",
   "execution_count": 2,
   "metadata": {
    "collapsed": true
   },
   "outputs": [],
   "source": [
    "spark = SparkSession \\\n",
    "    .builder \\\n",
    "    .appName(\"example\") \\\n",
    "    .getOrCreate()\n",
    "sc = spark.sparkContext\n",
    "sqlc = SQLContext(sc)"
   ]
  },
  {
   "cell_type": "code",
   "execution_count": 3,
   "metadata": {
    "collapsed": true
   },
   "outputs": [],
   "source": [
    "df = sqlc.createDataFrame([\n",
    "    (0, 18, 1),\n",
    "    (1, 25, 0),\n",
    "    (2, 40, 1),\n",
    "    (3, 36, 0),\n",
    "    (3, 36, 1),\n",
    "], ['uid', 'age', 'gender'])"
   ]
  },
  {
   "cell_type": "code",
   "execution_count": 4,
   "metadata": {},
   "outputs": [
    {
     "name": "stdout",
     "output_type": "stream",
     "text": [
      "+---+---+------+----------+---------+\n",
      "|uid|age|gender| features1|features2|\n",
      "+---+---+------+----------+---------+\n",
      "|  0| 18|     1|[18.0,1.0]|[0.0,1.0]|\n",
      "|  1| 25|     0|[25.0,0.0]|[1.0,0.0]|\n",
      "|  2| 40|     1|[40.0,1.0]|[2.0,1.0]|\n",
      "|  3| 36|     0|[36.0,0.0]|[3.0,0.0]|\n",
      "|  3| 36|     1|[36.0,1.0]|[3.0,1.0]|\n",
      "+---+---+------+----------+---------+\n",
      "\n"
     ]
    }
   ],
   "source": [
    "transformer1 = VectorAssembler(inputCols=['age', 'gender'], outputCol='features1')\n",
    "transformer2 = VectorAssembler(inputCols=['uid', 'gender'], outputCol='features2')\n",
    "\n",
    "pipeline = Pipeline(stages=[transformer1, transformer2])\n",
    "model = pipeline.fit(df)\n",
    "model.transform(df).show()"
   ]
  },
  {
   "cell_type": "markdown",
   "metadata": {},
   "source": [
    "## 把两个vectors压成一个vectors"
   ]
  },
  {
   "cell_type": "code",
   "execution_count": 11,
   "metadata": {},
   "outputs": [],
   "source": [
    "df = sqlc.createDataFrame([\n",
    "    (0, Vectors.dense([1,2,3]), Vectors.sparse(4, [1, 3], [1.0, 5.5]), ),\n",
    "    (1, Vectors.dense([1,2,3]), Vectors.sparse(4, [1, 3], [1.0, 5.5]), ),\n",
    "    (2, Vectors.dense([1,2,3]), Vectors.sparse(4, [1, 3], [1.0, 5.5]), ),\n",
    "    (3, Vectors.dense([1,2,3]), Vectors.sparse(4, [1, 3], [1.0, 5.5]), ),\n",
    "    (3, Vectors.dense([1,2,3]), None, ),\n",
    "], ['id', 'c1', 'c2'])"
   ]
  },
  {
   "cell_type": "code",
   "execution_count": 20,
   "metadata": {},
   "outputs": [],
   "source": [
    "empty_array_udf = F.udf(lambda : Vectors.dense([]), VectorUDT())\n",
    "df = df.withColumn('c1', F.coalesce(df['c1'], empty_array_udf()))\n",
    "df = df.withColumn('c2', F.coalesce(df['c2'], empty_array_udf()))\n"
   ]
  },
  {
   "cell_type": "code",
   "execution_count": 21,
   "metadata": {},
   "outputs": [
    {
     "name": "stdout",
     "output_type": "stream",
     "text": [
      "+---+-------------+-------------------+--------------------+\n",
      "| id|           c1|                 c2|                   o|\n",
      "+---+-------------+-------------------+--------------------+\n",
      "|  0|[1.0,2.0,3.0]|(4,[1,3],[1.0,5.5])|[1.0,2.0,3.0,0.0,...|\n",
      "|  1|[1.0,2.0,3.0]|(4,[1,3],[1.0,5.5])|[1.0,2.0,3.0,0.0,...|\n",
      "|  2|[1.0,2.0,3.0]|(4,[1,3],[1.0,5.5])|[1.0,2.0,3.0,0.0,...|\n",
      "|  3|[1.0,2.0,3.0]|(4,[1,3],[1.0,5.5])|[1.0,2.0,3.0,0.0,...|\n",
      "|  3|[1.0,2.0,3.0]|                 []|       [1.0,2.0,3.0]|\n",
      "+---+-------------+-------------------+--------------------+\n",
      "\n"
     ]
    }
   ],
   "source": [
    "transformer = VectorAssembler(inputCols=['c1', 'c2'], outputCol='o')\n",
    "\n",
    "transformer.transform(df).show()"
   ]
  },
  {
   "cell_type": "code",
   "execution_count": 25,
   "metadata": {},
   "outputs": [
    {
     "name": "stdout",
     "output_type": "stream",
     "text": [
      "root\n",
      " |-- id: long (nullable = true)\n",
      " |-- c1: vector (nullable = true)\n",
      " |-- c2: vector (nullable = true)\n",
      " |-- o: vector (nullable = true)\n",
      "\n"
     ]
    }
   ],
   "source": [
    "df.printSchema()"
   ]
  },
  {
   "cell_type": "code",
   "execution_count": null,
   "metadata": {
    "collapsed": true
   },
   "outputs": [],
   "source": []
  }
 ],
 "metadata": {
  "kernelspec": {
   "display_name": "Python 3",
   "language": "python",
   "name": "python3"
  },
  "language_info": {
   "codemirror_mode": {
    "name": "ipython",
    "version": 3
   },
   "file_extension": ".py",
   "mimetype": "text/x-python",
   "name": "python",
   "nbconvert_exporter": "python",
   "pygments_lexer": "ipython3",
   "version": "3.5.1"
  }
 },
 "nbformat": 4,
 "nbformat_minor": 2
}
