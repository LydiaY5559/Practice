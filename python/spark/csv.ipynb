{
 "cells": [
  {
   "cell_type": "code",
   "execution_count": 1,
   "metadata": {
    "collapsed": true
   },
   "outputs": [],
   "source": [
    "import pyspark\n",
    "from pyspark.sql import SparkSession, SQLContext\n",
    "from pyspark.sql.types import StructType, StructField, IntegerType, StringType, DateType\n",
    "from pyspark.sql.functions import lit\n",
    "from pyspark.ml.linalg import Vectors"
   ]
  },
  {
   "cell_type": "code",
   "execution_count": 2,
   "metadata": {
    "collapsed": true
   },
   "outputs": [],
   "source": [
    "spark = SparkSession \\\n",
    "    .builder \\\n",
    "    .appName(\"example\") \\\n",
    "    .getOrCreate()\n",
    "sc = spark.sparkContext\n",
    "sqlc = SQLContext(sc)"
   ]
  },
  {
   "cell_type": "code",
   "execution_count": 3,
   "metadata": {
    "collapsed": true
   },
   "outputs": [],
   "source": [
    "df = sqlc.createDataFrame([\n",
    "    (0, 18, 'female'),\n",
    "    (1, 25, 'male'),\n",
    "    (2, 40, 'female'),\n",
    "    (3, 36, 'male'),\n",
    "    (3, 36, 'male'),\n",
    "], ['uid', 'age', 'gender'])"
   ]
  },
  {
   "cell_type": "code",
   "execution_count": 4,
   "metadata": {},
   "outputs": [
    {
     "name": "stdout",
     "output_type": "stream",
     "text": [
      "+---+---+------+\n",
      "|uid|age|gender|\n",
      "+---+---+------+\n",
      "|  0| 18|female|\n",
      "|  1| 25|  male|\n",
      "|  2| 40|female|\n",
      "|  3| 36|  male|\n",
      "|  3| 36|  male|\n",
      "+---+---+------+\n",
      "\n"
     ]
    }
   ],
   "source": [
    "df.show()"
   ]
  },
  {
   "cell_type": "markdown",
   "metadata": {},
   "source": [
    "* write csv"
   ]
  },
  {
   "cell_type": "code",
   "execution_count": 5,
   "metadata": {
    "collapsed": true
   },
   "outputs": [],
   "source": [
    "df.write.mode('overwrite') \\\n",
    "    .option('header', 'true') \\\n",
    "    .csv('/tmp/csv_test')"
   ]
  },
  {
   "cell_type": "markdown",
   "metadata": {},
   "source": [
    "* read csv auto"
   ]
  },
  {
   "cell_type": "code",
   "execution_count": 6,
   "metadata": {
    "collapsed": true
   },
   "outputs": [],
   "source": [
    "tdf = sqlc.read \\\n",
    "    .option('header', 'true') \\\n",
    "    .option('inferschema', 'true') \\\n",
    "    .csv('/tmp/csv_test')"
   ]
  },
  {
   "cell_type": "code",
   "execution_count": 7,
   "metadata": {},
   "outputs": [
    {
     "name": "stdout",
     "output_type": "stream",
     "text": [
      "+---+---+------+\n",
      "|uid|age|gender|\n",
      "+---+---+------+\n",
      "|  2| 40|female|\n",
      "|  3| 36|  male|\n",
      "|  3| 36|  male|\n",
      "|  0| 18|female|\n",
      "|  1| 25|  male|\n",
      "+---+---+------+\n",
      "\n"
     ]
    }
   ],
   "source": [
    "tdf.show()"
   ]
  },
  {
   "cell_type": "code",
   "execution_count": 8,
   "metadata": {},
   "outputs": [
    {
     "name": "stdout",
     "output_type": "stream",
     "text": [
      "root\n",
      " |-- uid: integer (nullable = true)\n",
      " |-- age: integer (nullable = true)\n",
      " |-- gender: string (nullable = true)\n",
      "\n"
     ]
    }
   ],
   "source": [
    "tdf.printSchema()"
   ]
  },
  {
   "cell_type": "markdown",
   "metadata": {},
   "source": [
    "* read csv specify schema"
   ]
  },
  {
   "cell_type": "code",
   "execution_count": 9,
   "metadata": {
    "collapsed": true
   },
   "outputs": [],
   "source": [
    "schema = StructType([\n",
    "    StructField('uid', IntegerType(), False),\n",
    "    StructField('age', IntegerType()),\n",
    "    StructField('country', StringType()),\n",
    "    StructField('gender', StringType()),\n",
    "])"
   ]
  },
  {
   "cell_type": "code",
   "execution_count": 10,
   "metadata": {
    "collapsed": true
   },
   "outputs": [],
   "source": [
    "tdf = sqlc.read \\\n",
    "    .option('header', 'true') \\\n",
    "    .csv('/tmp/csv_test') "
   ]
  },
  {
   "cell_type": "code",
   "execution_count": 11,
   "metadata": {},
   "outputs": [
    {
     "name": "stdout",
     "output_type": "stream",
     "text": [
      "+---+---+------+\n",
      "|uid|age|gender|\n",
      "+---+---+------+\n",
      "|  2| 40|female|\n",
      "|  3| 36|  male|\n",
      "|  3| 36|  male|\n",
      "|  0| 18|female|\n",
      "|  1| 25|  male|\n",
      "+---+---+------+\n",
      "\n"
     ]
    }
   ],
   "source": [
    "tdf.show()"
   ]
  },
  {
   "cell_type": "code",
   "execution_count": 12,
   "metadata": {},
   "outputs": [
    {
     "name": "stdout",
     "output_type": "stream",
     "text": [
      "root\n",
      " |-- uid: string (nullable = true)\n",
      " |-- age: string (nullable = true)\n",
      " |-- gender: string (nullable = true)\n",
      "\n"
     ]
    }
   ],
   "source": [
    "tdf.printSchema()"
   ]
  },
  {
   "cell_type": "code",
   "execution_count": 13,
   "metadata": {
    "collapsed": true
   },
   "outputs": [],
   "source": [
    "for field in schema.fields:\n",
    "    if field.name not in tdf.columns:\n",
    "        tdf = tdf.withColumn(field.name, lit(None))\n",
    "    tdf = tdf.withColumn(field.name, tdf[field.name].cast(field.dataType))"
   ]
  },
  {
   "cell_type": "code",
   "execution_count": 14,
   "metadata": {},
   "outputs": [
    {
     "name": "stdout",
     "output_type": "stream",
     "text": [
      "+---+---+------+-------+\n",
      "|uid|age|gender|country|\n",
      "+---+---+------+-------+\n",
      "|  2| 40|female|   null|\n",
      "|  3| 36|  male|   null|\n",
      "|  3| 36|  male|   null|\n",
      "|  0| 18|female|   null|\n",
      "|  1| 25|  male|   null|\n",
      "+---+---+------+-------+\n",
      "\n"
     ]
    }
   ],
   "source": [
    "tdf.show()"
   ]
  },
  {
   "cell_type": "code",
   "execution_count": 15,
   "metadata": {},
   "outputs": [
    {
     "name": "stdout",
     "output_type": "stream",
     "text": [
      "root\n",
      " |-- uid: integer (nullable = true)\n",
      " |-- age: integer (nullable = true)\n",
      " |-- gender: string (nullable = true)\n",
      " |-- country: string (nullable = true)\n",
      "\n"
     ]
    }
   ],
   "source": [
    "tdf.printSchema()"
   ]
  },
  {
   "cell_type": "code",
   "execution_count": 16,
   "metadata": {
    "collapsed": true
   },
   "outputs": [],
   "source": [
    "res_df = sqlc.createDataFrame([], schema)"
   ]
  },
  {
   "cell_type": "code",
   "execution_count": 17,
   "metadata": {},
   "outputs": [
    {
     "name": "stdout",
     "output_type": "stream",
     "text": [
      "+---+---+-------+------+\n",
      "|uid|age|country|gender|\n",
      "+---+---+-------+------+\n",
      "|  2| 40|   null|female|\n",
      "|  3| 36|   null|  male|\n",
      "|  3| 36|   null|  male|\n",
      "|  0| 18|   null|female|\n",
      "|  1| 25|   null|  male|\n",
      "+---+---+-------+------+\n",
      "\n"
     ]
    }
   ],
   "source": [
    "res_df.union(tdf[schema.names]).show()"
   ]
  },
  {
   "cell_type": "code",
   "execution_count": 18,
   "metadata": {},
   "outputs": [
    {
     "name": "stdout",
     "output_type": "stream",
     "text": [
      "root\n",
      " |-- uid: integer (nullable = true)\n",
      " |-- age: integer (nullable = true)\n",
      " |-- country: string (nullable = true)\n",
      " |-- gender: string (nullable = true)\n",
      "\n"
     ]
    }
   ],
   "source": [
    "res_df.union(tdf[schema.names]).printSchema()"
   ]
  },
  {
   "cell_type": "code",
   "execution_count": null,
   "metadata": {
    "collapsed": true
   },
   "outputs": [],
   "source": []
  }
 ],
 "metadata": {
  "kernelspec": {
   "display_name": "Python 3",
   "language": "python",
   "name": "python3"
  },
  "language_info": {
   "codemirror_mode": {
    "name": "ipython",
    "version": 3
   },
   "file_extension": ".py",
   "mimetype": "text/x-python",
   "name": "python",
   "nbconvert_exporter": "python",
   "pygments_lexer": "ipython3",
   "version": "3.5.1"
  }
 },
 "nbformat": 4,
 "nbformat_minor": 2
}
