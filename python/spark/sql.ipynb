{
 "cells": [
  {
   "cell_type": "code",
   "execution_count": 1,
   "metadata": {},
   "outputs": [],
   "source": [
    "import pyspark\n",
    "from pyspark.sql import SparkSession, SQLContext\n",
    "from pyspark.sql.types import StructType, StructField, IntegerType, StringType, DateType\n",
    "from pyspark.sql.functions import lit\n",
    "from pyspark.ml.linalg import Vectors"
   ]
  },
  {
   "cell_type": "code",
   "execution_count": 2,
   "metadata": {},
   "outputs": [],
   "source": [
    "spark = SparkSession \\\n",
    "    .builder \\\n",
    "    .appName(\"example\") \\\n",
    "    .getOrCreate()\n",
    "sc = spark.sparkContext\n",
    "sqlc = SQLContext(sc)"
   ]
  },
  {
   "cell_type": "code",
   "execution_count": 3,
   "metadata": {},
   "outputs": [],
   "source": [
    "df = sqlc.createDataFrame([\n",
    "    (0, 18, 'female'),\n",
    "    (1, 25, 'male'),\n",
    "    (2, 40, 'female'),\n",
    "    (3, 36, 'male'),\n",
    "    (3, 36, 'male'),\n",
    "], ['uid', 'age', 'gender'])\n",
    "df.registerTempTable('df')"
   ]
  },
  {
   "cell_type": "code",
   "execution_count": 14,
   "metadata": {},
   "outputs": [
    {
     "name": "stdout",
     "output_type": "stream",
     "text": [
      "+---+---+\n",
      "| id|  p|\n",
      "+---+---+\n",
      "|  1|fe%|\n",
      "+---+---+\n",
      "\n"
     ]
    }
   ],
   "source": [
    "df2 = sqlc.createDataFrame([\n",
    "    (1, 'fe%'),\n",
    "], ['id', 'p'])\n",
    "df2.registerTempTable('df2')\n",
    "df2.show()"
   ]
  },
  {
   "cell_type": "code",
   "execution_count": 16,
   "metadata": {},
   "outputs": [
    {
     "name": "stdout",
     "output_type": "stream",
     "text": [
      "+---+---+------+---+---+\n",
      "|uid|age|gender| id|  p|\n",
      "+---+---+------+---+---+\n",
      "|  0| 18|female|  1|fe%|\n",
      "|  2| 40|female|  1|fe%|\n",
      "+---+---+------+---+---+\n",
      "\n"
     ]
    }
   ],
   "source": [
    "sql = '''\n",
    "select *\n",
    "from df\n",
    "join df2\n",
    "    on df.gender like df2.p\n",
    "'''\n",
    "sqlc.sql(sql).show()"
   ]
  },
  {
   "cell_type": "code",
   "execution_count": null,
   "metadata": {},
   "outputs": [],
   "source": []
  },
  {
   "cell_type": "code",
   "execution_count": null,
   "metadata": {},
   "outputs": [],
   "source": []
  }
 ],
 "metadata": {
  "kernelspec": {
   "display_name": "Python 2",
   "language": "python",
   "name": "python2"
  },
  "language_info": {
   "codemirror_mode": {
    "name": "ipython",
    "version": 2
   },
   "file_extension": ".py",
   "mimetype": "text/x-python",
   "name": "python",
   "nbconvert_exporter": "python",
   "pygments_lexer": "ipython2",
   "version": "2.7.12"
  }
 },
 "nbformat": 4,
 "nbformat_minor": 2
}
