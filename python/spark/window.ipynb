{
 "cells": [
  {
   "cell_type": "code",
   "execution_count": 3,
   "metadata": {},
   "outputs": [],
   "source": [
    "import pyspark\n",
    "from pyspark.sql import SparkSession, SQLContext\n",
    "from pyspark.sql import functions as F\n",
    "from pyspark.ml.linalg import Vectors\n",
    "from pyspark.ml import Pipeline, PipelineModel\n",
    "from pyspark.ml.feature import StandardScaler\n",
    "from pyspark.ml.clustering import KMeans"
   ]
  },
  {
   "cell_type": "code",
   "execution_count": 4,
   "metadata": {},
   "outputs": [],
   "source": [
    "spark = SparkSession \\\n",
    "    .builder \\\n",
    "    .appName(\"example\") \\\n",
    "    .getOrCreate()\n",
    "sc = spark.sparkContext\n",
    "sqlc = SQLContext(sc)"
   ]
  },
  {
   "cell_type": "code",
   "execution_count": 47,
   "metadata": {},
   "outputs": [],
   "source": [
    "df = sqlc.createDataFrame([\n",
    "    (0, 18, 1, 1.9),\n",
    "    (1, 25, 0, 2.1),\n",
    "    (2, 40, 1, 4.1),\n",
    "    (3, 36, 0, 3.9),\n",
    "    (3, 36, 1, 7.4),\n",
    "    (4, 24, 1, 3.4),\n",
    "], ['uid', 'age', 'gender', 'float'])"
   ]
  },
  {
   "cell_type": "code",
   "execution_count": 52,
   "metadata": {},
   "outputs": [
    {
     "name": "stdout",
     "output_type": "stream",
     "text": [
      "+---+---+------+-----+----+\n",
      "|uid|age|gender|float|   s|\n",
      "+---+---+------+-----+----+\n",
      "|  1| 25|     0|  2.1| 6.0|\n",
      "|  3| 36|     0|  3.9| 6.0|\n",
      "|  0| 18|     1|  1.9| 6.0|\n",
      "|  2| 40|     1|  4.1|16.8|\n",
      "|  3| 36|     1|  7.4|14.9|\n",
      "|  4| 24|     1|  3.4|14.9|\n",
      "+---+---+------+-----+----+\n",
      "\n"
     ]
    }
   ],
   "source": [
    "from pyspark.sql.window import Window\n",
    "w = Window().partitionBy('gender').orderBy('uid').rangeBetween(-2,2)\n",
    "df.select('uid', 'age', 'gender', 'float', F.sum(df['float']).over(w).alias('s')).show()"
   ]
  },
  {
   "cell_type": "code",
   "execution_count": null,
   "metadata": {},
   "outputs": [],
   "source": []
  }
 ],
 "metadata": {
  "kernelspec": {
   "display_name": "Python 2",
   "language": "python",
   "name": "python2"
  },
  "language_info": {
   "codemirror_mode": {
    "name": "ipython",
    "version": 2
   },
   "file_extension": ".py",
   "mimetype": "text/x-python",
   "name": "python",
   "nbconvert_exporter": "python",
   "pygments_lexer": "ipython2",
   "version": "2.7.12"
  }
 },
 "nbformat": 4,
 "nbformat_minor": 2
}
