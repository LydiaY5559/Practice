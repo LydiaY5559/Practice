{
 "cells": [
  {
   "cell_type": "code",
   "execution_count": null,
   "metadata": {
    "collapsed": true
   },
   "outputs": [],
   "source": [
    "import pyspark\n",
    "from pyspark.sql import SparkSession, SQLContext\n",
    "from pyspark.streaming import StreamingContext\n",
    "from pyspark.streaming.kafka import KafkaUtils, TopicAndPartition"
   ]
  },
  {
   "cell_type": "markdown",
   "metadata": {},
   "source": [
    "配置`spark.streaming.stopGracefullyOnShutdown`为`true`"
   ]
  },
  {
   "cell_type": "code",
   "execution_count": null,
   "metadata": {
    "collapsed": true
   },
   "outputs": [],
   "source": [
    "spark = SparkSession.builder \\\n",
    "    .appName('test') \\\n",
    "    .config('spark.streaming.stopGracefullyOnShutdown', 'true') \\\n",
    "    .getOrCreate()\n",
    "sc = spark.sparkContext\n",
    "sql_ctx = SQLContext(sc)\n",
    "ssc = StreamingContext(sc, 10)"
   ]
  },
  {
   "cell_type": "markdown",
   "metadata": {},
   "source": [
    "实时处理函数"
   ]
  },
  {
   "cell_type": "code",
   "execution_count": null,
   "metadata": {
    "collapsed": true
   },
   "outputs": [],
   "source": [
    "def process_func(ts, rdd):\n",
    "    # do something\n",
    "    # offset commit\n",
    "    return rdd"
   ]
  },
  {
   "cell_type": "markdown",
   "metadata": {},
   "source": [
    "连接kafka 开启ssc"
   ]
  },
  {
   "cell_type": "code",
   "execution_count": null,
   "metadata": {
    "collapsed": true
   },
   "outputs": [],
   "source": [
    "kafka_params = {\n",
    "    'bootstrap.servers': KAFKA_CONFIG['servers'],\n",
    "    'group.id': KAFKA_CONFIG['group_id'],\n",
    "    'auto.offset.reset': 'largest',\n",
    "    'auto.commit.enable': 'false', # 测试了一下这个参数 是无效的 不会commit\n",
    "}\n",
    "dks = KafkaUtils.createDirectStream(ssc, [KAFKA_CONFIG['topics']], kafka_params) \n",
    "\n",
    "dks = dks.transform(process_func)\n",
    "dks.pprint()\n",
    "\n",
    "ssc.start()\n",
    "ssc.awaitTermination()"
   ]
  },
  {
   "cell_type": "markdown",
   "metadata": {},
   "source": [
    "使用`kill pid`的方式终止spark进程\n",
    "\n",
    "据观察，两个批次后spark会关闭（参考链接说是跟spark.yarn.maxAppAttempts有关，但是我尝试了一下，并没有关系）"
   ]
  },
  {
   "cell_type": "code",
   "execution_count": null,
   "metadata": {
    "collapsed": true
   },
   "outputs": [],
   "source": [
    "!ps aux | grep spark | grep SparkSubmit | awk '{print $2}' | xargs kill -SIGTERM"
   ]
  },
  {
   "cell_type": "markdown",
   "metadata": {},
   "source": [
    "注意：不可以使用`yarn application -kill app_id`的方式终止"
   ]
  },
  {
   "cell_type": "markdown",
   "metadata": {},
   "source": [
    "可以参考：https://www.linkedin.com/pulse/how-shutdown-spark-streaming-job-gracefully-lan-jiang"
   ]
  },
  {
   "cell_type": "code",
   "execution_count": null,
   "metadata": {
    "collapsed": true
   },
   "outputs": [],
   "source": []
  }
 ],
 "metadata": {
  "kernelspec": {
   "display_name": "Python 3",
   "language": "python",
   "name": "python3"
  },
  "language_info": {
   "codemirror_mode": {
    "name": "ipython",
    "version": 3
   },
   "file_extension": ".py",
   "mimetype": "text/x-python",
   "name": "python",
   "nbconvert_exporter": "python",
   "pygments_lexer": "ipython3",
   "version": "3.5.1"
  }
 },
 "nbformat": 4,
 "nbformat_minor": 2
}
