{
 "cells": [
  {
   "cell_type": "code",
   "execution_count": null,
   "metadata": {
    "collapsed": true
   },
   "outputs": [],
   "source": [
    "import pyspark\n",
    "from pyspark.sql import SparkSession, SQLContext\n",
    "from pyspark.streaming import StreamingContext\n",
    "from pyspark.streaming.kafka import KafkaUtils, TopicAndPartition"
   ]
  },
  {
   "cell_type": "code",
   "execution_count": null,
   "metadata": {
    "collapsed": true
   },
   "outputs": [],
   "source": [
    "spark = SparkSession.builder \\\n",
    "    .appName('test') \\\n",
    "    .getOrCreate()\n",
    "sc = spark.sparkContext\n",
    "sql_ctx = SQLContext(sc)\n",
    "ssc = StreamingContext(sc, 10)"
   ]
  },
  {
   "cell_type": "markdown",
   "metadata": {},
   "source": [
    "处理函数"
   ]
  },
  {
   "cell_type": "code",
   "execution_count": null,
   "metadata": {
    "collapsed": true
   },
   "outputs": [],
   "source": [
    "def process_func(ts, rdd):\n",
    "    # do something\n",
    "    # offset commit\n",
    "    return rdd"
   ]
  },
  {
   "cell_type": "markdown",
   "metadata": {},
   "source": [
    "连接kafka"
   ]
  },
  {
   "cell_type": "code",
   "execution_count": null,
   "metadata": {
    "collapsed": true
   },
   "outputs": [],
   "source": [
    "kafka_params = {\n",
    "    'bootstrap.servers': KAFKA_CONFIG['servers'],\n",
    "    'group.id': KAFKA_CONFIG['group_id'],\n",
    "    'auto.offset.reset': 'largest',\n",
    "    'auto.commit.enable': 'false', # 测试了一下这个参数 是无效的 不会commit\n",
    "}\n",
    "dks = KafkaUtils.createDirectStream(ssc, [KAFKA_CONFIG['topics']], kafka_params) \n",
    "\n",
    "dks = dks.transform(process_func)\n",
    "dks.pprint()"
   ]
  },
  {
   "cell_type": "markdown",
   "metadata": {},
   "source": [
    "不能在`process_func`中捕获错误\n",
    "\n",
    "而是捕获`ssc.awaitTermination()`的错误"
   ]
  },
  {
   "cell_type": "code",
   "execution_count": null,
   "metadata": {
    "collapsed": true
   },
   "outputs": [],
   "source": [
    "ssc.start()\n",
    "\n",
    "try:\n",
    "    ssc.awaitTermination()\n",
    "except:\n",
    "    # handle error\n",
    "    ssc.stop()\n",
    "\n",
    "sc.stop()\n"
   ]
  }
 ],
 "metadata": {
  "kernelspec": {
   "display_name": "Python 3",
   "language": "python",
   "name": "python3"
  },
  "language_info": {
   "codemirror_mode": {
    "name": "ipython",
    "version": 3
   },
   "file_extension": ".py",
   "mimetype": "text/x-python",
   "name": "python",
   "nbconvert_exporter": "python",
   "pygments_lexer": "ipython3",
   "version": "3.5.1"
  }
 },
 "nbformat": 4,
 "nbformat_minor": 2
}
