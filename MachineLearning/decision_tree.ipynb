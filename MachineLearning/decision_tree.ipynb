{
 "cells": [
  {
   "cell_type": "code",
   "execution_count": 1,
   "metadata": {
    "collapsed": true
   },
   "outputs": [],
   "source": [
    "# coding:utf-8\n",
    "\n",
    "import numpy as np\n",
    "import pandas as pd\n",
    "import matplotlib.pyplot as plt\n",
    "import seaborn as sns\n",
    "from sklearn import datasets\n",
    "\n",
    "import common\n",
    "\n",
    "%matplotlib inline\n",
    "sns.set_style({'font.sans-serif':['simhei','Arial']})\n",
    "sns.set_style('white')"
   ]
  },
  {
   "cell_type": "markdown",
   "metadata": {},
   "source": [
    "## 决策树实现"
   ]
  },
  {
   "cell_type": "code",
   "execution_count": 2,
   "metadata": {
    "collapsed": false
   },
   "outputs": [],
   "source": [
    "# 熵(entropy): H(D)\n",
    "def calc_entropy(D):\n",
    "    p = pd.Series(D).value_counts().values / len(D)\n",
    "    entropy = (-p * np.log2(p)).sum()\n",
    "    return entropy\n",
    "\n",
    "# 条件熵(condition entropy): H(D|A)\n",
    "def calc_cond_entropy(D, A): # D:训练数据集; A:特征\n",
    "    data_df = pd.DataFrame({'D': D, 'A': A})\n",
    "    # 计算H(D_i)\n",
    "    H_D_i = data_df.groupby('A')['D'].apply(calc_entropy)\n",
    "    # 计算p(D_i)\n",
    "    p_D_i = data_df.groupby('A')['A'].count() / len(D)\n",
    "    return (H_D_i * p_D_i).sum()\n",
    "    \n",
    "# 信息增益(information gain): g(D,A)\n",
    "def calc_info_gain(D, A):\n",
    "    return calc_entropy(D) - calc_cond_entropy(D, A)\n",
    "\n",
    "# 信息增益比(information gain ratio): g_R(D,A)\n",
    "def calc_info_gain_ratio(D, A):\n",
    "    # 计算H_A(D) D关于A的值的熵\n",
    "    H_A_D = calc_entropy(A)\n",
    "    return calc_info_gain(D, A) / H_A_D\n",
    "    \n",
    "class DecisionTree(object):\n",
    "    def __init__(self, model_type='ID3'):\n",
    "        self.model_type = model_type\n",
    "    \n",
    "    def _get_best_feature_index(self, features, labels, split_func):\n",
    "        return features.apply(lambda A: split_func(labels, A), axis=0).argmax()\n",
    "    \n",
    "    def _majority_class(self, labels):\n",
    "        return pd.Series(labels).value_counts().argmax()\n",
    "    \n",
    "    def _get_child_tree(self, data_df, best_feature, split_func):\n",
    "        columns = data_df.columns[data_df.columns != best_feature]\n",
    "        child_tree = data_df.groupby(best_feature)[columns].apply(lambda df: self._create_tree(df, split_func))\n",
    "        return child_tree\n",
    "    \n",
    "    def _create_tree(self, data_df, split_func):\n",
    "        # 只有一种分类 结束分叉\n",
    "        if len(data_df['y'].unique()) == 1:\n",
    "            return data_df['y'].unique()[0]\n",
    "        # 已经没有特征 结束分叉\n",
    "        if len(data_df.columns) == 0:\n",
    "            return self._majority_class(data_df['y'])\n",
    "        \n",
    "        # 找到最合理的分割特征\n",
    "        best_feature = self._get_best_feature_index(data_df.iloc[:, :-1], data_df['y'], split_func)\n",
    "        \n",
    "        # 按best_feature分割后 递归建树\n",
    "        child_tree = self._get_child_tree(data_df, best_feature, split_func)\n",
    "\n",
    "        return {'feature_'+str(best_feature): dict(child_tree.items())}\n",
    "#         return {best_feature: dict(child_tree.items())}\n",
    "        \n",
    "    def fit(self, X, y):\n",
    "        self.X = np.array(X)\n",
    "        self.y = np.array(y)\n",
    "        data_df = pd.DataFrame(self.X).join(pd.DataFrame(self.y, columns=['y']))\n",
    "        if self.model_type == 'ID3':\n",
    "            self.tree = self._create_tree(data_df, calc_info_gain)\n",
    "        elif self.model_type == 'C4.5':\n",
    "            self.tree = self._create_tree(data_df, calc_info_gain_ratio)\n",
    "        else:\n",
    "            raise(Exception('model_type %s error.')%self.model_type)\n",
    "    \n",
    "    def get_tree(self):\n",
    "        return self.tree\n",
    "            \n",
    "# DecisionTree().fit(X_train,y_train)"
   ]
  },
  {
   "cell_type": "markdown",
   "metadata": {},
   "source": [
    "* 测试"
   ]
  },
  {
   "cell_type": "code",
   "execution_count": 3,
   "metadata": {
    "collapsed": false
   },
   "outputs": [
    {
     "data": {
      "text/plain": [
       "{'feature_0': {'0': 'no', '1': {'feature_1': {'0': 'no', '1': 'yes'}}}}"
      ]
     },
     "execution_count": 3,
     "metadata": {},
     "output_type": "execute_result"
    }
   ],
   "source": [
    "# 机器学习实战测试数据\n",
    "# no surfacing, flippers: fish?\n",
    "dataset = np.array([[1, 1, 'yes'],\n",
    "                    [1, 1, 'yes'],\n",
    "                    [1, 0, 'no'],\n",
    "                    [0, 1, 'no'],\n",
    "                    [0, 1, 'no']])\n",
    "X_train = dataset[:, :-1]\n",
    "y_train = dataset[:, -1]\n",
    "\n",
    "model = DecisionTree()\n",
    "model.fit(X_train, y_train)\n",
    "model.get_tree()"
   ]
  },
  {
   "cell_type": "code",
   "execution_count": 4,
   "metadata": {
    "collapsed": false
   },
   "outputs": [
    {
     "data": {
      "text/plain": [
       "{'feature_2': {0: {'feature_1': {0: 0, 1: 1}}, 1: 1}}"
      ]
     },
     "execution_count": 4,
     "metadata": {},
     "output_type": "execute_result"
    }
   ],
   "source": [
    "# 统计学习方法测试数据\n",
    "# 年龄, 工作, 房子, 信贷: 是否同意贷款?\n",
    "dataset = np.array([\n",
    "    [1,0,0,1,0],\n",
    "    [1,0,0,2,0],\n",
    "    [1,1,0,2,1],\n",
    "    [1,1,1,1,1],\n",
    "    [1,0,0,1,0],\n",
    "    [2,0,0,1,0],\n",
    "    [2,0,0,2,0],\n",
    "    [2,1,1,2,1],\n",
    "    [2,0,1,3,1],\n",
    "    [2,0,1,3,1],\n",
    "    [3,0,1,3,1],\n",
    "    [3,0,1,2,1],\n",
    "    [3,1,0,2,1],\n",
    "    [3,1,0,3,1],\n",
    "    [3,0,0,1,0],\n",
    "])\n",
    "X_train = dataset[:, :-1]\n",
    "y_train = dataset[:, -1]\n",
    "\n",
    "model = DecisionTree()\n",
    "model.fit(X_train, y_train)\n",
    "model.get_tree()"
   ]
  },
  {
   "cell_type": "markdown",
   "metadata": {},
   "source": [
    "* plot tree"
   ]
  },
  {
   "cell_type": "code",
   "execution_count": 6,
   "metadata": {
    "collapsed": false
   },
   "outputs": [
    {
     "ename": "TypeError",
     "evalue": "createPlot() missing 1 required positional argument: 'inTree'",
     "output_type": "error",
     "traceback": [
      "\u001b[0;31m---------------------------------------------------------------------------\u001b[0m",
      "\u001b[0;31mTypeError\u001b[0m                                 Traceback (most recent call last)",
      "\u001b[0;32m<ipython-input-6-3db22df591ee>\u001b[0m in \u001b[0;36m<module>\u001b[0;34m()\u001b[0m\n\u001b[1;32m     10\u001b[0m     \u001b[0mplotTree\u001b[0m\u001b[0;34m(\u001b[0m\u001b[0minTree\u001b[0m\u001b[0;34m,\u001b[0m \u001b[0;34m(\u001b[0m\u001b[0;36m0.5\u001b[0m\u001b[0;34m,\u001b[0m\u001b[0;36m1.0\u001b[0m\u001b[0;34m)\u001b[0m\u001b[0;34m,\u001b[0m \u001b[0;34m''\u001b[0m\u001b[0;34m)\u001b[0m\u001b[0;34m\u001b[0m\u001b[0m\n\u001b[1;32m     11\u001b[0m     \u001b[0mplt\u001b[0m\u001b[0;34m.\u001b[0m\u001b[0mshow\u001b[0m\u001b[0;34m(\u001b[0m\u001b[0;34m)\u001b[0m\u001b[0;34m\u001b[0m\u001b[0m\n\u001b[0;32m---> 12\u001b[0;31m \u001b[0mcreatePlot\u001b[0m\u001b[0;34m(\u001b[0m\u001b[0;34m)\u001b[0m\u001b[0;34m\u001b[0m\u001b[0m\n\u001b[0m",
      "\u001b[0;31mTypeError\u001b[0m: createPlot() missing 1 required positional argument: 'inTree'"
     ]
    }
   ],
   "source": [
    "def createPlot(inTree):\n",
    "    fig = plt.figure(1, facecolor='white')\n",
    "    fig.clf()\n",
    "    axprops = dict(xticks=[], yticks=[])\n",
    "    createPlot.ax1 = plt.subplot(111, frameon=False, **axprops)    #no ticks\n",
    "    #createPlot.ax1 = plt.subplot(111, frameon=False) #ticks for demo puropses \n",
    "    plotTree.totalW = float(getNumLeafs(inTree))\n",
    "    plotTree.totalD = float(getTreeDepth(inTree))\n",
    "    plotTree.xOff = -0.5/plotTree.totalW; plotTree.yOff = 1.0;\n",
    "    plotTree(inTree, (0.5,1.0), '')\n",
    "    plt.show()\n",
    "\n",
    "    \n",
    "def plotNode(nodeTxt, centerPt, parentPt, nodeType):\n",
    "    createPlot.ax1.annotate(nodeTxt, xy=parentPt,  xycoords='axes fraction',\n",
    "             xytext=centerPt, textcoords='axes fraction',\n",
    "             va=\"center\", ha=\"center\", bbox=nodeType, arrowprops=arrow_args )\n"
   ]
  },
  {
   "cell_type": "code",
   "execution_count": null,
   "metadata": {
    "collapsed": true
   },
   "outputs": [],
   "source": []
  }
 ],
 "metadata": {
  "kernelspec": {
   "display_name": "Python 3",
   "language": "python",
   "name": "python3"
  },
  "language_info": {
   "codemirror_mode": {
    "name": "ipython",
    "version": 3
   },
   "file_extension": ".py",
   "mimetype": "text/x-python",
   "name": "python",
   "nbconvert_exporter": "python",
   "pygments_lexer": "ipython3",
   "version": "3.5.1"
  }
 },
 "nbformat": 4,
 "nbformat_minor": 1
}
