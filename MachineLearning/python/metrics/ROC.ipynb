{
 "cells": [
  {
   "cell_type": "code",
   "execution_count": 1,
   "metadata": {
    "collapsed": true
   },
   "outputs": [],
   "source": [
    "# coding: utf8\n",
    "import numpy as np\n",
    "import matplotlib.pyplot as plt\n",
    "\n",
    "%matplotlib inline"
   ]
  },
  {
   "cell_type": "markdown",
   "metadata": {},
   "source": [
    "**测试数据集**"
   ]
  },
  {
   "cell_type": "code",
   "execution_count": 2,
   "metadata": {
    "collapsed": true
   },
   "outputs": [],
   "source": [
    "datasets = np.array([\n",
    "    [1, 0.9],\n",
    "    [1, 0.8],\n",
    "    [0, 0.7],\n",
    "    [1, 0.6],\n",
    "    [1, 0.55],\n",
    "    [1, 0.54],\n",
    "    [0, 0.53],\n",
    "    [0, 0.52],\n",
    "    [1, 0.51],\n",
    "    [0, 0.505],\n",
    "    [1, 0.4],\n",
    "    [0, 0.39],\n",
    "    [1, 0.38],\n",
    "    [0, 0.37],\n",
    "    [0, 0.36],\n",
    "    [0, 0.35],\n",
    "    [1, 0.34],\n",
    "    [0, 0.33],\n",
    "    [1, 0.3],\n",
    "    [0, 0.1],\n",
    "])\n",
    "# 根据p从高到低排序，方便后面使用\n",
    "idx = np.argsort(datasets[:, 1])[::-1]\n",
    "y = datasets[idx, 0]\n",
    "p = datasets[idx, 1]"
   ]
  },
  {
   "cell_type": "code",
   "execution_count": 3,
   "metadata": {},
   "outputs": [
    {
     "data": {
      "text/plain": [
       "(20, 10, 10)"
      ]
     },
     "execution_count": 3,
     "metadata": {},
     "output_type": "execute_result"
    }
   ],
   "source": [
    "M = len(y) # 样本数\n",
    "M_P = (y == 1).sum() # 正例数\n",
    "M_N = (y == 0).sum() # 负例数\n",
    "M, M_P, M_N"
   ]
  },
  {
   "cell_type": "markdown",
   "metadata": {},
   "source": [
    "**获取混淆矩阵**"
   ]
  },
  {
   "cell_type": "code",
   "execution_count": 4,
   "metadata": {},
   "outputs": [
    {
     "data": {
      "text/plain": [
       "array([[6, 4],\n",
       "       [4, 6]])"
      ]
     },
     "execution_count": 4,
     "metadata": {},
     "output_type": "execute_result"
    }
   ],
   "source": [
    "def get_confusion_matrix(y, y_hat):\n",
    "    TP = ((y == 1) & (y_hat == 1)).sum()\n",
    "    TN = ((y == 0) & (y_hat == 0)).sum()\n",
    "    FP = ((y == 0) & (y_hat == 1)).sum()\n",
    "    FN = ((y == 1) & (y_hat == 0)).sum()\n",
    "    return np.array([\n",
    "        [TP, FN],\n",
    "        [FP, TN],\n",
    "    ])\n",
    "get_confusion_matrix(y, (p>0.5).astype(int))"
   ]
  },
  {
   "cell_type": "markdown",
   "metadata": {},
   "source": [
    "**ROC曲线绘制方法**\n",
    "\n",
    "将`p`从高到低排序，依次从排好序的`p`中取`threshold`，根据`threshold`来判断`p`是属于正例还是负例，得到`y_hat`，然后再算出`(FPR, TPR)`作为坐标\n",
    "\n",
    "连接所有的点，得到ROC曲线，曲线在的面积即ROC_AUC"
   ]
  },
  {
   "cell_type": "code",
   "execution_count": 5,
   "metadata": {
    "scrolled": true
   },
   "outputs": [],
   "source": [
    "xs = []\n",
    "ys = []\n",
    "for threshold in p:\n",
    "    cm = get_confusion_matrix(y, (p > threshold).astype(int))\n",
    "    TPR = cm[0][0] / M_P\n",
    "    FPR = cm[1][0] / M_N\n",
    "    xs.append(FPR)\n",
    "    ys.append(TPR)\n",
    "xs = np.array(xs)\n",
    "ys = np.array(ys)"
   ]
  },
  {
   "cell_type": "code",
   "execution_count": 6,
   "metadata": {},
   "outputs": [
    {
     "data": {
      "text/plain": [
       "Text(0.5,1,'ROC Curve')"
      ]
     },
     "execution_count": 6,
     "metadata": {},
     "output_type": "execute_result"
    },
    {
     "data": {
      "image/png": "[encoded data removed]",
      "text/plain": [
       "<matplotlib.figure.Figure at 0x106477550>"
      ]
     },
     "metadata": {},
     "output_type": "display_data"
    }
   ],
   "source": [
    "plt.figure(figsize=(4.5,4))\n",
    "plt.plot(xs, ys, 'bx')\n",
    "plt.plot(xs, ys, 'k-')\n",
    "plt.xlim(0, 1)\n",
    "plt.ylim(0, 1)\n",
    "plt.xlabel('False positive rate')\n",
    "plt.ylabel('True positive rate')\n",
    "plt.title('ROC Curve')"
   ]
  },
  {
   "cell_type": "markdown",
   "metadata": {},
   "source": [
    "**换一个方法绘制ROC曲线**\n",
    "\n",
    "先将`p`从高到低排序（`y`也对应的调整位置），从`(0, 0)`出发，碰到`y=1`就往上走一格，碰到`y=0`就往右走一格，得到最后的路径，将横纵坐标归一化一下"
   ]
  },
  {
   "cell_type": "code",
   "execution_count": 7,
   "metadata": {},
   "outputs": [],
   "source": [
    "xs = [0]\n",
    "ys = [0]\n",
    "xx = 0\n",
    "yy = 0\n",
    "for yi in y:\n",
    "    xx += int(yi==0)\n",
    "    yy += int(yi==1)\n",
    "    xs.append(xx)\n",
    "    ys.append(yy)\n",
    "xs = np.array(xs) / xx\n",
    "ys = np.array(ys) / yy"
   ]
  },
  {
   "cell_type": "code",
   "execution_count": 8,
   "metadata": {},
   "outputs": [
    {
     "data": {
      "text/plain": [
       "Text(0.5,1,'ROC Curve')"
      ]
     },
     "execution_count": 8,
     "metadata": {},
     "output_type": "execute_result"
    },
    {
     "data": {
      "image/png": "[encoded data removed]",
      "text/plain": [
       "<matplotlib.figure.Figure at 0x1064f2da0>"
      ]
     },
     "metadata": {},
     "output_type": "display_data"
    }
   ],
   "source": [
    "plt.figure(figsize=(4.5,4))\n",
    "plt.plot(xs, ys, 'bx')\n",
    "plt.plot(xs, ys, 'k-')\n",
    "plt.xlim(0, 1)\n",
    "plt.ylim(0, 1)\n",
    "plt.xlabel('False positive rate')\n",
    "plt.ylabel('True positive rate')\n",
    "plt.title('ROC Curve')"
   ]
  },
  {
   "cell_type": "markdown",
   "metadata": {},
   "source": [
    "ROC实际上不是根据`p`的具体值来计算的，它只关心`p`的顺序，也就是将`p`从高到低排好序后，`y`的1都在左边，0都在右边，这时候ROC_AUC为1\n",
    "\n",
    "它根据0出现的时候，0的右边有多少个1来进行惩罚，看到上面的例子，第一个出现的0，惩罚的面积就很大（也就是当出现第一个0时，曲线往右走，上面的这部分面积都是被惩罚掉的）；如果出现1，就往上走，不会出现惩罚面积"
   ]
  },
  {
   "cell_type": "code",
   "execution_count": null,
   "metadata": {
    "collapsed": true
   },
   "outputs": [],
   "source": []
  }
 ],
 "metadata": {
  "kernelspec": {
   "display_name": "Python 3",
   "language": "python",
   "name": "python3"
  },
  "language_info": {
   "codemirror_mode": {
    "name": "ipython",
    "version": 3
   },
   "file_extension": ".py",
   "mimetype": "text/x-python",
   "name": "python",
   "nbconvert_exporter": "python",
   "pygments_lexer": "ipython3",
   "version": "3.5.1"
  }
 },
 "nbformat": 4,
 "nbformat_minor": 2
}
