{
 "cells": [
  {
   "cell_type": "code",
   "execution_count": 1,
   "metadata": {
    "collapsed": true
   },
   "outputs": [],
   "source": [
    "# coding:utf-8\n",
    "\n",
    "import numpy as np\n",
    "import pandas as pd\n",
    "import matplotlib.pyplot as plt\n",
    "import seaborn as sns\n",
    "from sklearn import datasets\n",
    "\n",
    "import common\n",
    "\n",
    "%matplotlib inline\n",
    "sns.set_style({'font.sans-serif':['simhei','Arial']})\n",
    "sns.set_style('white')"
   ]
  },
  {
   "cell_type": "markdown",
   "metadata": {},
   "source": [
    "## 感知机实现"
   ]
  },
  {
   "cell_type": "code",
   "execution_count": 2,
   "metadata": {
    "collapsed": false
   },
   "outputs": [],
   "source": [
    "class Perceptron(object):\n",
    "    def __init__(self, epoch=100, lr=0.1):\n",
    "        self.epoch = epoch\n",
    "        self.lr = lr\n",
    "        \n",
    "    def _sgd(self):\n",
    "        # init w/b\n",
    "        self.w = np.zeros((self.X.shape[1], 1))\n",
    "        self.b = 0\n",
    "        \n",
    "        for i in range(self.epoch):\n",
    "            # 判断是否还有误分类点\n",
    "            is_error = self.y * ((self.X.dot(self.w) + self.b).reshape(-1)) <= 0\n",
    "            if is_error.sum() == 0:\n",
    "                break\n",
    "            \n",
    "            # 随机一个点（仅在误分类点中随机）\n",
    "            random_proba = is_error/is_error.sum()\n",
    "            random_index = np.random.choice(self.X.shape[0], p=random_proba)\n",
    "            xi = self.X[random_index]\n",
    "            yi = self.y[random_index]\n",
    "            \n",
    "            # 梯度下降\n",
    "            self.w += self.lr * yi * xi.reshape(self.w.shape)\n",
    "            self.b += self.lr * yi\n",
    "    \n",
    "    def fit(self, X, y):\n",
    "        self.X = X\n",
    "        self.y = y\n",
    "        self._sgd()\n",
    "        \n",
    "    def predict(self, X_pred):\n",
    "        X_pred = np.array(X_pred)\n",
    "        y_pred = (X_pred.dot(self.w) + self.b).reshape(-1)\n",
    "        y_pred = np.where(y_pred > 0, 1, -1)\n",
    "        return y_pred\n"
   ]
  },
  {
   "cell_type": "markdown",
   "metadata": {},
   "source": [
    "## 效果展示"
   ]
  },
  {
   "cell_type": "code",
   "execution_count": 3,
   "metadata": {
    "collapsed": false
   },
   "outputs": [
    {
     "data": {
      "image/png": "[encoded data removed]",
      "text/plain": [
       "<matplotlib.figure.Figure at 0x108cefeb8>"
      ]
     },
     "metadata": {},
     "output_type": "display_data"
    }
   ],
   "source": [
    "dataset = np.array([\n",
    "    [3,3,1],\n",
    "    [4,3,1],\n",
    "    [1,1,-1],\n",
    "])\n",
    "X_train = dataset[:, :-1]\n",
    "y_train = dataset[:, -1]\n",
    "\n",
    "common.plot_classifier_paras(Perceptron, X_train, y_train, {'lr':[1, 0.5, 0.1]})"
   ]
  },
  {
   "cell_type": "code",
   "execution_count": null,
   "metadata": {
    "collapsed": true
   },
   "outputs": [],
   "source": []
  }
 ],
 "metadata": {
  "kernelspec": {
   "display_name": "Python 3",
   "language": "python",
   "name": "python3"
  },
  "language_info": {
   "codemirror_mode": {
    "name": "ipython",
    "version": 3
   },
   "file_extension": ".py",
   "mimetype": "text/x-python",
   "name": "python",
   "nbconvert_exporter": "python",
   "pygments_lexer": "ipython3",
   "version": "3.5.1"
  }
 },
 "nbformat": 4,
 "nbformat_minor": 1
}
