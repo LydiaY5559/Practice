{
 "cells": [
  {
   "cell_type": "code",
   "execution_count": 6,
   "metadata": {
    "collapsed": true
   },
   "outputs": [],
   "source": [
    "# coding:utf-8\n",
    "from collections import defaultdict\n",
    "import copy\n",
    "\n",
    "import numpy as np\n",
    "import pandas as pd\n",
    "import matplotlib.pyplot as plt\n",
    "import seaborn as sns\n",
    "from sklearn import datasets\n",
    "\n",
    "%matplotlib inline\n",
    "sns.set_style({'font.sans-serif':['simhei','Arial']})\n",
    "sns.set_style('white')"
   ]
  },
  {
   "cell_type": "markdown",
   "metadata": {},
   "source": [
    "## 朴素贝叶斯\n",
    "称为朴素贝叶斯是由于它假设了各特征之间的独立性（即概率可以进行相乘）"
   ]
  },
  {
   "cell_type": "code",
   "execution_count": 2,
   "metadata": {},
   "outputs": [],
   "source": [
    "class NaiveBayes(object):\n",
    "    \"\"\"\n",
    "    Parameters\n",
    "    ----------\n",
    "    alpha: float, optional, default 1.0\n",
    "        Laplace smoothing lambda.\n",
    "    \"\"\"\n",
    "    def __init__(self, alpha=1.0):\n",
    "        self.alpha = alpha\n",
    "        \n",
    "    def fit(self, X, y):\n",
    "        self.X = np.array(X)\n",
    "        self.y = np.array(y)\n",
    "        \n",
    "        # 计算P(Y=c_k) 每一个分类的概率\n",
    "        self.class_count = pd.Series(self.y).value_counts()\n",
    "        self.y_class = pd.Series(self.class_count.index.tolist(), index=self.class_count.index)\n",
    "        self.p_y = (self.class_count + self.alpha) / (self.y.shape[0] + self.alpha * len(self.y_class))\n",
    "        \n",
    "        # 计算P(X-j=a_ji|Y=c_k) 在y为某一类的情况下，x-j为某个值的概率\n",
    "        # p_x_y[y_class][x_feature_index][x_feature_value]\n",
    "        self.x_class = [np.unique(x) for x in self.X.T]\n",
    "        zeros_list = [{x_v:0 for x_v in xi_class} for xi_class in self.x_class]\n",
    "        self.p_x_y = defaultdict(lambda : copy.deepcopy(zeros_list))\n",
    "        # 统计每个X-j=a_ji|Y=c_k的数量\n",
    "        for j in range(X.shape[0]): # 第j条数据\n",
    "            for i in range(X.shape[1]): # 第i个特征\n",
    "                self.p_x_y[self.y[j]][i][self.X[j, i]] += 1\n",
    "        # 除以y_class_count\n",
    "        for cls in self.class_count.index:\n",
    "            cls_count = self.class_count[cls]\n",
    "            for i, p_x_dict in enumerate(self.p_x_y[cls]):\n",
    "                x_cls_count = len(self.x_class[i])\n",
    "                for p_x_value in p_x_dict:\n",
    "                    p_x_dict[p_x_value] = (p_x_dict[p_x_value] + self.alpha) / (cls_count + self.alpha * x_cls_count)\n",
    "        \n",
    "    def _get_proba(self, xj):\n",
    "        p_x_y_prod = lambda cls: np.array([p_x_dict.get(xj[i], 0) for i, p_x_dict in enumerate(self.p_x_y[cls])]).prod()\n",
    "        y_proba = self.y_class.map(lambda cls: self.p_y[cls] * p_x_y_prod(cls))\n",
    "        return y_proba\n",
    "        \n",
    "    def predict(self, X_pred):\n",
    "        y_pred = np.array([self._get_proba(xj).argmax() for xj in X_pred])\n",
    "        return y_pred\n"
   ]
  },
  {
   "cell_type": "markdown",
   "metadata": {},
   "source": [
    "* 测试学习方法"
   ]
  },
  {
   "cell_type": "code",
   "execution_count": 3,
   "metadata": {
    "collapsed": true
   },
   "outputs": [],
   "source": [
    "dataset = np.array([\n",
    "    [1,1,-1],\n",
    "    [1,2,-1],\n",
    "    [1,2,1],\n",
    "    [1,1,1],\n",
    "    [1,1,-1],\n",
    "    [2,1,-1],\n",
    "    [2,2,-1],\n",
    "    [2,2,1],\n",
    "    [2,3,1],\n",
    "    [2,3,1],\n",
    "    [3,3,1],\n",
    "    [3,2,1],\n",
    "    [3,2,1],\n",
    "    [3,3,1],\n",
    "    [3,3,-1],\n",
    "])\n",
    "X_train = dataset[:, :-1]\n",
    "y_train = dataset[:, -1]"
   ]
  },
  {
   "cell_type": "code",
   "execution_count": 4,
   "metadata": {},
   "outputs": [
    {
     "data": {
      "text/plain": [
       "array([ 1, -1])"
      ]
     },
     "execution_count": 4,
     "metadata": {},
     "output_type": "execute_result"
    }
   ],
   "source": [
    "model = NaiveBayes()\n",
    "model.fit(X_train, y_train)\n",
    "model.predict([[11,1], [2,1]])"
   ]
  },
  {
   "cell_type": "code",
   "execution_count": null,
   "metadata": {
    "collapsed": true
   },
   "outputs": [],
   "source": []
  }
 ],
 "metadata": {
  "kernelspec": {
   "display_name": "Python 3",
   "language": "python",
   "name": "python3"
  },
  "language_info": {
   "codemirror_mode": {
    "name": "ipython",
    "version": 3
   },
   "file_extension": ".py",
   "mimetype": "text/x-python",
   "name": "python",
   "nbconvert_exporter": "python",
   "pygments_lexer": "ipython3",
   "version": "3.5.1"
  }
 },
 "nbformat": 4,
 "nbformat_minor": 1
}
